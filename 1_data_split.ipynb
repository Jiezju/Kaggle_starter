{
 "cells": [
  {
   "cell_type": "markdown",
   "metadata": {
    "papermill": {
     "duration": 0.018356,
     "end_time": "2021-02-15T12:49:26.624860",
     "exception": false,
     "start_time": "2021-02-15T12:49:26.606504",
     "status": "completed"
    },
    "tags": []
   },
   "source": [
    "# 数据划分方法"
   ]
  },
  {
   "cell_type": "code",
   "execution_count": 3,
   "metadata": {
    "ExecuteTime": {
     "end_time": "2022-07-05T14:15:11.332438Z",
     "start_time": "2022-07-05T14:15:11.328561Z"
    },
    "execution": {
     "iopub.execute_input": "2021-02-15T12:49:26.666817Z",
     "iopub.status.busy": "2021-02-15T12:49:26.665746Z",
     "iopub.status.idle": "2021-02-15T12:49:26.672070Z",
     "shell.execute_reply": "2021-02-15T12:49:26.672596Z"
    },
    "papermill": {
     "duration": 0.029126,
     "end_time": "2021-02-15T12:49:26.672736",
     "exception": false,
     "start_time": "2021-02-15T12:49:26.643610",
     "status": "completed"
    },
    "tags": []
   },
   "outputs": [],
   "source": [
    "import numpy as np\n",
    "# hold-out\n",
    "from sklearn.model_selection import train_test_split\n",
    "\n",
    "# K折交叉验证\n",
    "from sklearn.model_selection import KFold\n",
    "from sklearn.model_selection import RepeatedKFold\n",
    "\n",
    "# K折分布保持交叉验证\n",
    "from sklearn.model_selection import StratifiedKFold\n",
    "from sklearn.model_selection import RepeatedStratifiedKFold\n",
    "\n",
    "# 时间序列划分方法\n",
    "from sklearn.model_selection import TimeSeriesSplit\n",
    "\n",
    "# booststrap 采样\n",
    "from sklearn.utils import resample"
   ]
  },
  {
   "cell_type": "code",
   "execution_count": 4,
   "metadata": {
    "ExecuteTime": {
     "end_time": "2022-07-05T14:15:12.675839Z",
     "start_time": "2022-07-05T14:15:12.658936Z"
    },
    "execution": {
     "iopub.execute_input": "2021-02-15T12:49:26.717820Z",
     "iopub.status.busy": "2021-02-15T12:49:26.716783Z",
     "iopub.status.idle": "2021-02-15T12:49:26.729361Z",
     "shell.execute_reply": "2021-02-15T12:49:26.729871Z"
    },
    "papermill": {
     "duration": 0.037565,
     "end_time": "2021-02-15T12:49:26.730048",
     "exception": false,
     "start_time": "2021-02-15T12:49:26.692483",
     "status": "completed"
    },
    "tags": []
   },
   "outputs": [
    {
     "name": "stdout",
     "output_type": "stream",
     "text": [
      "[[0. 0. 0. 0. 0.]\n",
      " [0. 0. 0. 0. 0.]\n",
      " [0. 0. 0. 0. 0.]\n",
      " [0. 0. 0. 0. 0.]\n",
      " [0. 0. 0. 0. 0.]\n",
      " [0. 0. 0. 0. 0.]\n",
      " [0. 0. 0. 0. 0.]\n",
      " [0. 0. 0. 0. 0.]\n",
      " [0. 0. 0. 0. 0.]\n",
      " [0. 0. 0. 0. 0.]\n",
      " [0. 0. 0. 0. 0.]\n",
      " [0. 0. 0. 0. 0.]\n",
      " [0. 0. 0. 0. 0.]\n",
      " [0. 0. 0. 0. 0.]\n",
      " [0. 0. 0. 0. 0.]\n",
      " [0. 0. 0. 0. 0.]\n",
      " [0. 0. 0. 0. 0.]\n",
      " [0. 0. 0. 0. 0.]\n",
      " [0. 0. 0. 0. 0.]\n",
      " [0. 0. 0. 0. 0.]] [1 1 1 1 1 2 2 2 2 2 3 3 3 3 3 4 4 4 4 4]\n"
     ]
    }
   ],
   "source": [
    "X = np.zeros((20, 5))\n",
    "Y = np.array([1]*5 + [2]*5 + [3]*5 + [4]*5)\n",
    "print(X, Y)"
   ]
  },
  {
   "cell_type": "code",
   "execution_count": 5,
   "metadata": {
    "ExecuteTime": {
     "end_time": "2022-07-05T14:16:43.187906Z",
     "start_time": "2022-07-05T14:16:43.183878Z"
    },
    "execution": {
     "iopub.execute_input": "2021-02-15T12:49:26.777761Z",
     "iopub.status.busy": "2021-02-15T12:49:26.776014Z",
     "iopub.status.idle": "2021-02-15T12:49:26.788334Z",
     "shell.execute_reply": "2021-02-15T12:49:26.786713Z"
    },
    "papermill": {
     "duration": 0.038447,
     "end_time": "2021-02-15T12:49:26.788465",
     "exception": false,
     "start_time": "2021-02-15T12:49:26.750018",
     "status": "completed"
    },
    "tags": []
   },
   "outputs": [
    {
     "name": "stdout",
     "output_type": "stream",
     "text": [
      "[4 2 2 2 2 1 3 4 1 3 4 1 2 3 3 1] [4 3 4 1]\n"
     ]
    }
   ],
   "source": [
    "# 直接按照比例拆分 (留出法)\n",
    "train_X, val_X, train_y, val_y = train_test_split(X, Y, test_size = 0.2)\n",
    "print(train_y, val_y)"
   ]
  },
  {
   "cell_type": "code",
   "execution_count": 6,
   "metadata": {
    "ExecuteTime": {
     "end_time": "2022-07-05T14:20:02.790558Z",
     "start_time": "2022-07-05T14:20:02.770004Z"
    }
   },
   "outputs": [
    {
     "name": "stdout",
     "output_type": "stream",
     "text": [
      "[4 2 2 4 4 2 1 2 3 1 4 1 1 3 3 3] [2 3 4 1]\n"
     ]
    }
   ],
   "source": [
    "# 按照比例 & 标签分布划分\n",
    "train_X, val_X, train_y, val_y = train_test_split(X, Y, test_size = 0.2, stratify=Y)\n",
    "print(train_y, val_y)"
   ]
  },
  {
   "cell_type": "code",
   "execution_count": 7,
   "metadata": {
    "ExecuteTime": {
     "end_time": "2022-07-05T14:21:26.063390Z",
     "start_time": "2022-07-05T14:21:26.056551Z"
    },
    "execution": {
     "iopub.execute_input": "2021-02-15T12:49:26.837023Z",
     "iopub.status.busy": "2021-02-15T12:49:26.835872Z",
     "iopub.status.idle": "2021-02-15T12:49:26.843396Z",
     "shell.execute_reply": "2021-02-15T12:49:26.842399Z"
    },
    "papermill": {
     "duration": 0.034917,
     "end_time": "2021-02-15T12:49:26.843555",
     "exception": false,
     "start_time": "2021-02-15T12:49:26.808638",
     "status": "completed"
    },
    "tags": []
   },
   "outputs": [
    {
     "name": "stdout",
     "output_type": "stream",
     "text": [
      "[ 4  5  6  7  8  9 10 11 12 13 14 15 16 17 18 19] [0 1 2 3]\n",
      "Label [1 1 1 1]\n",
      "\n",
      "[ 0  1  2  3  8  9 10 11 12 13 14 15 16 17 18 19] [4 5 6 7]\n",
      "Label [1 2 2 2]\n",
      "\n",
      "[ 0  1  2  3  4  5  6  7 12 13 14 15 16 17 18 19] [ 8  9 10 11]\n",
      "Label [2 2 3 3]\n",
      "\n",
      "[ 0  1  2  3  4  5  6  7  8  9 10 11 16 17 18 19] [12 13 14 15]\n",
      "Label [3 3 3 4]\n",
      "\n",
      "[ 0  1  2  3  4  5  6  7  8  9 10 11 12 13 14 15] [16 17 18 19]\n",
      "Label [4 4 4 4]\n",
      "\n"
     ]
    }
   ],
   "source": [
    "# K 折交叉验证\n",
    "kf = KFold(n_splits=5)\n",
    "for train_idx, test_idx, in kf.split(X, Y):\n",
    "    print(train_idx, test_idx)\n",
    "    print('Label', Y[test_idx])\n",
    "    print('')"
   ]
  },
  {
   "cell_type": "code",
   "execution_count": 8,
   "metadata": {
    "ExecuteTime": {
     "end_time": "2022-07-05T14:24:58.497451Z",
     "start_time": "2022-07-05T14:24:58.486166Z"
    },
    "execution": {
     "iopub.execute_input": "2021-02-15T12:49:26.900134Z",
     "iopub.status.busy": "2021-02-15T12:49:26.899090Z",
     "iopub.status.idle": "2021-02-15T12:49:26.902768Z",
     "shell.execute_reply": "2021-02-15T12:49:26.903961Z"
    },
    "papermill": {
     "duration": 0.038742,
     "end_time": "2021-02-15T12:49:26.904396",
     "exception": false,
     "start_time": "2021-02-15T12:49:26.865654",
     "status": "completed"
    },
    "tags": []
   },
   "outputs": [
    {
     "name": "stdout",
     "output_type": "stream",
     "text": [
      "[ 0  1  2  3  4  7  8 10 11 12 13 14 16 17 18 19] [ 5  6  9 15]\n",
      "Label [2 2 2 4]\n",
      "\n",
      "[ 0  1  2  4  5  6  7  8  9 10 14 15 16 17 18 19] [ 3 11 12 13]\n",
      "Label [1 3 3 3]\n",
      "\n",
      "[ 0  1  2  3  5  6  7  8  9 10 11 12 13 15 16 19] [ 4 14 17 18]\n",
      "Label [1 3 4 4]\n",
      "\n",
      "[ 0  2  3  4  5  6  9 11 12 13 14 15 16 17 18 19] [ 1  7  8 10]\n",
      "Label [1 2 2 3]\n",
      "\n",
      "[ 1  3  4  5  6  7  8  9 10 11 12 13 14 15 17 18] [ 0  2 16 19]\n",
      "Label [1 1 4 4]\n",
      "\n",
      "[ 0  1  2  3  4  5  6  9 10 11 12 14 15 17 18 19] [ 7  8 13 16]\n",
      "Label [2 2 3 4]\n",
      "\n",
      "[ 0  1  3  4  5  6  7  8 12 13 14 15 16 17 18 19] [ 2  9 10 11]\n",
      "Label [1 2 3 3]\n",
      "\n",
      "[ 0  1  2  3  4  5  7  8  9 10 11 13 14 16 17 19] [ 6 12 15 18]\n",
      "Label [2 3 4 4]\n",
      "\n",
      "[ 2  5  6  7  8  9 10 11 12 13 14 15 16 17 18 19] [0 1 3 4]\n",
      "Label [1 1 1 1]\n",
      "\n",
      "[ 0  1  2  3  4  6  7  8  9 10 11 12 13 15 16 18] [ 5 14 17 19]\n",
      "Label [2 3 4 4]\n",
      "\n"
     ]
    }
   ],
   "source": [
    "# 重复KFold方法多次\n",
    "kf = RepeatedKFold(n_splits=5, n_repeats=2)\n",
    "for train_idx, test_idx, in kf.split(X, Y):\n",
    "    print(train_idx, test_idx)\n",
    "    print('Label', Y[test_idx])\n",
    "    print('')"
   ]
  },
  {
   "cell_type": "code",
   "execution_count": 9,
   "metadata": {
    "ExecuteTime": {
     "end_time": "2022-07-05T14:25:02.064148Z",
     "start_time": "2022-07-05T14:25:02.043128Z"
    },
    "execution": {
     "iopub.execute_input": "2021-02-15T12:49:26.958177Z",
     "iopub.status.busy": "2021-02-15T12:49:26.955549Z",
     "iopub.status.idle": "2021-02-15T12:49:26.966515Z",
     "shell.execute_reply": "2021-02-15T12:49:26.967076Z"
    },
    "papermill": {
     "duration": 0.039663,
     "end_time": "2021-02-15T12:49:26.967247",
     "exception": false,
     "start_time": "2021-02-15T12:49:26.927584",
     "status": "completed"
    },
    "tags": []
   },
   "outputs": [
    {
     "name": "stdout",
     "output_type": "stream",
     "text": [
      "[ 1  2  3  4  6  7  8  9 11 12 13 14 16 17 18 19] [ 0  5 10 15]\n",
      "Label [1 2 3 4]\n",
      "\n",
      "[ 0  2  3  4  5  7  8  9 10 12 13 14 15 17 18 19] [ 1  6 11 16]\n",
      "Label [1 2 3 4]\n",
      "\n",
      "[ 0  1  3  4  5  6  8  9 10 11 13 14 15 16 18 19] [ 2  7 12 17]\n",
      "Label [1 2 3 4]\n",
      "\n",
      "[ 0  1  2  4  5  6  7  9 10 11 12 14 15 16 17 19] [ 3  8 13 18]\n",
      "Label [1 2 3 4]\n",
      "\n",
      "[ 0  1  2  3  5  6  7  8 10 11 12 13 15 16 17 18] [ 4  9 14 19]\n",
      "Label [1 2 3 4]\n",
      "\n"
     ]
    }
   ],
   "source": [
    "# StratifiedKFold用法类似Kfold，但是他是分层采样，确保训练集，测试集中各类别样本的比例与原始数据集中相同。\n",
    "kf = StratifiedKFold(n_splits=5)\n",
    "for train_idx, test_idx, in kf.split(X, Y):\n",
    "    print(train_idx, test_idx)\n",
    "    print('Label', Y[test_idx])\n",
    "    print('')"
   ]
  },
  {
   "cell_type": "code",
   "execution_count": 10,
   "metadata": {
    "ExecuteTime": {
     "end_time": "2022-07-05T14:28:30.612078Z",
     "start_time": "2022-07-05T14:28:30.601905Z"
    },
    "execution": {
     "iopub.execute_input": "2021-02-15T12:49:27.020602Z",
     "iopub.status.busy": "2021-02-15T12:49:27.018581Z",
     "iopub.status.idle": "2021-02-15T12:49:27.033810Z",
     "shell.execute_reply": "2021-02-15T12:49:27.033146Z"
    },
    "papermill": {
     "duration": 0.04452,
     "end_time": "2021-02-15T12:49:27.033963",
     "exception": false,
     "start_time": "2021-02-15T12:49:26.989443",
     "status": "completed"
    },
    "scrolled": false,
    "tags": []
   },
   "outputs": [
    {
     "name": "stdout",
     "output_type": "stream",
     "text": [
      "[ 0  1  3  4  5  6  8  9 10 11 12 14 15 16 17 19] [ 2  7 13 18]\n",
      "Label [1 2 3 4]\n",
      "\n",
      "[ 0  1  2  4  5  7  8  9 11 12 13 14 15 16 17 18] [ 3  6 10 19]\n",
      "Label [1 2 3 4]\n",
      "\n",
      "[ 0  1  2  3  5  6  7  9 10 12 13 14 15 16 18 19] [ 4  8 11 17]\n",
      "Label [1 2 3 4]\n",
      "\n",
      "[ 0  2  3  4  5  6  7  8 10 11 12 13 16 17 18 19] [ 1  9 14 15]\n",
      "Label [1 2 3 4]\n",
      "\n",
      "[ 1  2  3  4  6  7  8  9 10 11 13 14 15 17 18 19] [ 0  5 12 16]\n",
      "Label [1 2 3 4]\n",
      "\n",
      "[ 1  2  3  4  6  7  8  9 10 11 12 13 15 16 17 18] [ 0  5 14 19]\n",
      "Label [1 2 3 4]\n",
      "\n",
      "[ 0  1  2  3  5  6  7  9 10 12 13 14 16 17 18 19] [ 4  8 11 15]\n",
      "Label [1 2 3 4]\n",
      "\n",
      "[ 0  1  3  4  5  7  8  9 11 12 13 14 15 16 18 19] [ 2  6 10 17]\n",
      "Label [1 2 3 4]\n",
      "\n",
      "[ 0  1  2  4  5  6  8  9 10 11 13 14 15 16 17 19] [ 3  7 12 18]\n",
      "Label [1 2 3 4]\n",
      "\n",
      "[ 0  2  3  4  5  6  7  8 10 11 12 14 15 17 18 19] [ 1  9 13 16]\n",
      "Label [1 2 3 4]\n",
      "\n"
     ]
    }
   ],
   "source": [
    "# 重复多次\n",
    "kf = RepeatedStratifiedKFold(n_splits=5, n_repeats=2)\n",
    "for train_idx, test_idx, in kf.split(X, Y):\n",
    "    print(train_idx, test_idx)\n",
    "    print('Label', Y[test_idx])\n",
    "    print('')"
   ]
  },
  {
   "cell_type": "code",
   "execution_count": 9,
   "metadata": {
    "ExecuteTime": {
     "end_time": "2020-08-01T06:27:15.131958Z",
     "start_time": "2020-08-01T06:27:15.122377Z"
    },
    "execution": {
     "iopub.execute_input": "2021-02-15T12:49:27.090182Z",
     "iopub.status.busy": "2021-02-15T12:49:27.089114Z",
     "iopub.status.idle": "2021-02-15T12:49:27.095305Z",
     "shell.execute_reply": "2021-02-15T12:49:27.094309Z"
    },
    "papermill": {
     "duration": 0.037548,
     "end_time": "2021-02-15T12:49:27.095497",
     "exception": false,
     "start_time": "2021-02-15T12:49:27.057949",
     "status": "completed"
    },
    "tags": []
   },
   "outputs": [
    {
     "name": "stdout",
     "output_type": "stream",
     "text": [
      "[0 1 2 3 4] [5 6 7]\n",
      "Label [2 2 2]\n",
      "\n",
      "[0 1 2 3 4 5 6 7] [ 8  9 10]\n",
      "Label [2 2 3]\n",
      "\n",
      "[ 0  1  2  3  4  5  6  7  8  9 10] [11 12 13]\n",
      "Label [3 3 3]\n",
      "\n",
      "[ 0  1  2  3  4  5  6  7  8  9 10 11 12 13] [14 15 16]\n",
      "Label [3 4 4]\n",
      "\n",
      "[ 0  1  2  3  4  5  6  7  8  9 10 11 12 13 14 15 16] [17 18 19]\n",
      "Label [4 4 4]\n",
      "\n"
     ]
    }
   ],
   "source": [
    "# test集里的数据时间上必须是在train 集数据后面的，所以基于索引（时间）顺序\n",
    "kf = TimeSeriesSplit(n_splits=5)\n",
    "for train_idx, test_idx, in kf.split(X, Y):\n",
    "    print(train_idx, test_idx)\n",
    "    print('Label', Y[test_idx])\n",
    "    print('')"
   ]
  },
  {
   "cell_type": "code",
   "execution_count": 10,
   "metadata": {
    "ExecuteTime": {
     "end_time": "2020-08-01T06:32:41.718036Z",
     "start_time": "2020-08-01T06:32:41.713058Z"
    },
    "execution": {
     "iopub.execute_input": "2021-02-15T12:49:27.174807Z",
     "iopub.status.busy": "2021-02-15T12:49:27.173981Z",
     "iopub.status.idle": "2021-02-15T12:49:27.179692Z",
     "shell.execute_reply": "2021-02-15T12:49:27.178605Z"
    },
    "papermill": {
     "duration": 0.04988,
     "end_time": "2021-02-15T12:49:27.179850",
     "exception": false,
     "start_time": "2021-02-15T12:49:27.129970",
     "status": "completed"
    },
    "tags": []
   },
   "outputs": [
    {
     "name": "stdout",
     "output_type": "stream",
     "text": [
      "[3 1 2 1 1 3 1 4 3 1 3 1 2 3 4 1] [2 2 3 3]\n"
     ]
    }
   ],
   "source": [
    "# 重采样\n",
    "train_X, train_Y = resample(X, Y, n_samples=16)\n",
    "val_X, val_Y = resample(X, Y, n_samples=4)\n",
    "print(train_Y, val_Y)"
   ]
  },
  {
   "cell_type": "markdown",
   "metadata": {
    "papermill": {
     "duration": 0.06284,
     "end_time": "2021-02-15T12:55:50.024003",
     "exception": false,
     "start_time": "2021-02-15T12:55:49.961163",
     "status": "completed"
    },
    "tags": []
   },
   "source": [
    "# 阅读链接\n",
    "\n",
    "- https://scikit-learn.org/stable/modules/generated/sklearn.model_selection.GridSearchCV.html\n",
    "- https://lightgbm.readthedocs.io/en/latest/Python-API.html\n",
    "- https://xgboost.readthedocs.io/en/latest//python/index.html\n",
    "\n",
    "\n",
    "- https://github.com/fmfn/BayesianOptimization"
   ]
  },
  {
   "cell_type": "code",
   "execution_count": null,
   "metadata": {},
   "outputs": [],
   "source": []
  }
 ],
 "metadata": {
  "kernelspec": {
   "display_name": "Python 3",
   "language": "python",
   "name": "python3"
  },
  "language_info": {
   "codemirror_mode": {
    "name": "ipython",
    "version": 3
   },
   "file_extension": ".py",
   "mimetype": "text/x-python",
   "name": "python",
   "nbconvert_exporter": "python",
   "pygments_lexer": "ipython3",
   "version": "3.8.3"
  },
  "papermill": {
   "duration": 390.724002,
   "end_time": "2021-02-15T12:55:50.209286",
   "environment_variables": {},
   "exception": null,
   "input_path": "__notebook__.ipynb",
   "output_path": "__notebook__.ipynb",
   "parameters": {},
   "start_time": "2021-02-15T12:49:19.485284",
   "version": "2.1.0"
  }
 },
 "nbformat": 4,
 "nbformat_minor": 4
}
