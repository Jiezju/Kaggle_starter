{
 "cells": [
  {
   "cell_type": "markdown",
   "metadata": {},
   "source": [
    "This is an anonymized, binary classification dataset found on a USB stick that washed ashore in a bottle. There was no data dictionary with the dataset, but this poem was handwritten on an accompanying scrap of paper:\n",
    "\n",
    "```\n",
    "Silly column names abound,\n",
    "but the test set is a mystery.\n",
    "Careful how you pick and slice,\n",
    "or be left behind by history.\n",
    "```\n",
    "\n",
    "* train.csv - the training set\n",
    "* test.csv - the test set (you must predict the target value for these variables)\n",
    "* sample_submission.csv - a sample submission file in the correct format"
   ]
  },
  {
   "cell_type": "code",
   "execution_count": 15,
   "metadata": {
    "ExecuteTime": {
     "end_time": "2022-07-14T15:18:50.911768Z",
     "start_time": "2022-07-14T15:18:50.907800Z"
    }
   },
   "outputs": [],
   "source": [
    "# 数据集路径\n",
    "INPUT_PATH = './data/Instant_Gratification/'\n",
    "\n",
    "import numpy as np\n",
    "import pandas as pd\n",
    "\n",
    "# 画图\n",
    "import matplotlib.pyplot as plt\n",
    "import seaborn as sns\n",
    "\n",
    "# 警告不输出\n",
    "import warnings\n",
    "warnings.filterwarnings(\"ignore\")\n",
    "\n",
    "import time\n",
    "import gc\n",
    "\n",
    "# 进度条\n",
    "from tqdm import tqdm\n",
    "\n",
    "# 数据划分，评价指标\n",
    "from sklearn.model_selection import StratifiedKFold\n",
    "from sklearn.metrics import roc_auc_score"
   ]
  },
  {
   "cell_type": "code",
   "execution_count": 26,
   "metadata": {
    "ExecuteTime": {
     "end_time": "2022-07-14T15:28:57.830306Z",
     "start_time": "2022-07-14T15:28:51.407705Z"
    }
   },
   "outputs": [],
   "source": [
    "train = pd.read_csv(INPUT_PATH + 'train.csv')\n",
    "test = pd.read_csv(INPUT_PATH + 'test.csv') # 公开的测试集"
   ]
  },
  {
   "cell_type": "code",
   "execution_count": 27,
   "metadata": {
    "ExecuteTime": {
     "end_time": "2022-07-14T15:28:59.324947Z",
     "start_time": "2022-07-14T15:28:59.321715Z"
    }
   },
   "outputs": [
    {
     "data": {
      "text/plain": [
       "((262144, 258), (131072, 257))"
      ]
     },
     "execution_count": 27,
     "metadata": {},
     "output_type": "execute_result"
    }
   ],
   "source": [
    "train.shape, test.shape"
   ]
  },
  {
   "cell_type": "code",
   "execution_count": 4,
   "metadata": {
    "ExecuteTime": {
     "end_time": "2022-07-13T15:05:34.939524Z",
     "start_time": "2022-07-13T15:05:34.884646Z"
    }
   },
   "outputs": [
    {
     "data": {
      "text/html": [
       "<div>\n",
       "<style scoped>\n",
       "    .dataframe tbody tr th:only-of-type {\n",
       "        vertical-align: middle;\n",
       "    }\n",
       "\n",
       "    .dataframe tbody tr th {\n",
       "        vertical-align: top;\n",
       "    }\n",
       "\n",
       "    .dataframe thead th {\n",
       "        text-align: right;\n",
       "    }\n",
       "</style>\n",
       "<table border=\"1\" class=\"dataframe\">\n",
       "  <thead>\n",
       "    <tr style=\"text-align: right;\">\n",
       "      <th></th>\n",
       "      <th>id</th>\n",
       "      <th>muggy-smalt-axolotl-pembus</th>\n",
       "      <th>dorky-peach-sheepdog-ordinal</th>\n",
       "      <th>slimy-seashell-cassowary-goose</th>\n",
       "      <th>snazzy-harlequin-chicken-distraction</th>\n",
       "      <th>frumpy-smalt-mau-ordinal</th>\n",
       "      <th>stealthy-beige-pinscher-golden</th>\n",
       "      <th>chummy-cream-tarantula-entropy</th>\n",
       "      <th>hazy-emerald-cuttlefish-unsorted</th>\n",
       "      <th>nerdy-indigo-wolfhound-sorted</th>\n",
       "      <th>...</th>\n",
       "      <th>wheezy-myrtle-mandrill-entropy</th>\n",
       "      <th>wiggy-lilac-lemming-sorted</th>\n",
       "      <th>gloppy-cerise-snail-contributor</th>\n",
       "      <th>woozy-silver-havanese-gaussian</th>\n",
       "      <th>jumpy-thistle-discus-sorted</th>\n",
       "      <th>muggy-turquoise-donkey-important</th>\n",
       "      <th>blurry-buff-hyena-entropy</th>\n",
       "      <th>bluesy-chocolate-kudu-fepid</th>\n",
       "      <th>gamy-white-monster-expert</th>\n",
       "      <th>target</th>\n",
       "    </tr>\n",
       "  </thead>\n",
       "  <tbody>\n",
       "    <tr>\n",
       "      <th>0</th>\n",
       "      <td>707b395ecdcbb4dc2eabea00e4d1b179</td>\n",
       "      <td>-2.070654</td>\n",
       "      <td>1.018160</td>\n",
       "      <td>0.228643</td>\n",
       "      <td>0.857221</td>\n",
       "      <td>0.052271</td>\n",
       "      <td>0.230303</td>\n",
       "      <td>-6.385090</td>\n",
       "      <td>0.439369</td>\n",
       "      <td>-0.721946</td>\n",
       "      <td>...</td>\n",
       "      <td>0.351895</td>\n",
       "      <td>0.618824</td>\n",
       "      <td>-1.542423</td>\n",
       "      <td>0.598175</td>\n",
       "      <td>0.611757</td>\n",
       "      <td>0.678772</td>\n",
       "      <td>0.247059</td>\n",
       "      <td>-0.806677</td>\n",
       "      <td>-0.193649</td>\n",
       "      <td>0</td>\n",
       "    </tr>\n",
       "    <tr>\n",
       "      <th>1</th>\n",
       "      <td>5880c03c6582a7b42248668e56b4bdec</td>\n",
       "      <td>-0.491702</td>\n",
       "      <td>0.082645</td>\n",
       "      <td>-0.011193</td>\n",
       "      <td>1.071266</td>\n",
       "      <td>-0.346347</td>\n",
       "      <td>-0.082209</td>\n",
       "      <td>0.110579</td>\n",
       "      <td>-0.382374</td>\n",
       "      <td>-0.229620</td>\n",
       "      <td>...</td>\n",
       "      <td>-0.645115</td>\n",
       "      <td>-1.246090</td>\n",
       "      <td>2.613357</td>\n",
       "      <td>-0.479664</td>\n",
       "      <td>1.581289</td>\n",
       "      <td>0.931258</td>\n",
       "      <td>0.151937</td>\n",
       "      <td>-0.766595</td>\n",
       "      <td>0.474351</td>\n",
       "      <td>0</td>\n",
       "    </tr>\n",
       "    <tr>\n",
       "      <th>2</th>\n",
       "      <td>4ccbcb3d13e5072ff1d9c61afe2c4f77</td>\n",
       "      <td>-1.680473</td>\n",
       "      <td>0.860529</td>\n",
       "      <td>-1.076195</td>\n",
       "      <td>0.740124</td>\n",
       "      <td>3.678445</td>\n",
       "      <td>0.288558</td>\n",
       "      <td>0.515875</td>\n",
       "      <td>0.920590</td>\n",
       "      <td>-1.223277</td>\n",
       "      <td>...</td>\n",
       "      <td>0.516422</td>\n",
       "      <td>0.130521</td>\n",
       "      <td>-0.459210</td>\n",
       "      <td>2.028205</td>\n",
       "      <td>-0.093968</td>\n",
       "      <td>-0.218274</td>\n",
       "      <td>-0.163136</td>\n",
       "      <td>-0.870289</td>\n",
       "      <td>0.064038</td>\n",
       "      <td>1</td>\n",
       "    </tr>\n",
       "    <tr>\n",
       "      <th>3</th>\n",
       "      <td>e350f17a357f12a1941f0837afb7eb8d</td>\n",
       "      <td>0.183774</td>\n",
       "      <td>0.919134</td>\n",
       "      <td>-0.946958</td>\n",
       "      <td>0.918492</td>\n",
       "      <td>0.862278</td>\n",
       "      <td>1.155287</td>\n",
       "      <td>0.911106</td>\n",
       "      <td>0.562598</td>\n",
       "      <td>-1.349685</td>\n",
       "      <td>...</td>\n",
       "      <td>-1.168967</td>\n",
       "      <td>1.385089</td>\n",
       "      <td>-0.353028</td>\n",
       "      <td>3.316150</td>\n",
       "      <td>-0.524087</td>\n",
       "      <td>-0.794327</td>\n",
       "      <td>3.936365</td>\n",
       "      <td>0.682989</td>\n",
       "      <td>-2.521211</td>\n",
       "      <td>0</td>\n",
       "    </tr>\n",
       "    <tr>\n",
       "      <th>4</th>\n",
       "      <td>a8f910ea6075b6376af079055965ff68</td>\n",
       "      <td>-0.203933</td>\n",
       "      <td>-0.177252</td>\n",
       "      <td>0.368074</td>\n",
       "      <td>-0.701320</td>\n",
       "      <td>-1.104391</td>\n",
       "      <td>0.735760</td>\n",
       "      <td>0.894273</td>\n",
       "      <td>-1.375826</td>\n",
       "      <td>-5.144946</td>\n",
       "      <td>...</td>\n",
       "      <td>-0.279168</td>\n",
       "      <td>1.544356</td>\n",
       "      <td>2.959727</td>\n",
       "      <td>1.641201</td>\n",
       "      <td>-0.130818</td>\n",
       "      <td>-0.264292</td>\n",
       "      <td>-0.748668</td>\n",
       "      <td>0.964218</td>\n",
       "      <td>0.087079</td>\n",
       "      <td>0</td>\n",
       "    </tr>\n",
       "  </tbody>\n",
       "</table>\n",
       "<p>5 rows × 258 columns</p>\n",
       "</div>"
      ],
      "text/plain": [
       "                                 id  muggy-smalt-axolotl-pembus  \\\n",
       "0  707b395ecdcbb4dc2eabea00e4d1b179                   -2.070654   \n",
       "1  5880c03c6582a7b42248668e56b4bdec                   -0.491702   \n",
       "2  4ccbcb3d13e5072ff1d9c61afe2c4f77                   -1.680473   \n",
       "3  e350f17a357f12a1941f0837afb7eb8d                    0.183774   \n",
       "4  a8f910ea6075b6376af079055965ff68                   -0.203933   \n",
       "\n",
       "   dorky-peach-sheepdog-ordinal  slimy-seashell-cassowary-goose  \\\n",
       "0                      1.018160                        0.228643   \n",
       "1                      0.082645                       -0.011193   \n",
       "2                      0.860529                       -1.076195   \n",
       "3                      0.919134                       -0.946958   \n",
       "4                     -0.177252                        0.368074   \n",
       "\n",
       "   snazzy-harlequin-chicken-distraction  frumpy-smalt-mau-ordinal  \\\n",
       "0                              0.857221                  0.052271   \n",
       "1                              1.071266                 -0.346347   \n",
       "2                              0.740124                  3.678445   \n",
       "3                              0.918492                  0.862278   \n",
       "4                             -0.701320                 -1.104391   \n",
       "\n",
       "   stealthy-beige-pinscher-golden  chummy-cream-tarantula-entropy  \\\n",
       "0                        0.230303                       -6.385090   \n",
       "1                       -0.082209                        0.110579   \n",
       "2                        0.288558                        0.515875   \n",
       "3                        1.155287                        0.911106   \n",
       "4                        0.735760                        0.894273   \n",
       "\n",
       "   hazy-emerald-cuttlefish-unsorted  nerdy-indigo-wolfhound-sorted  ...  \\\n",
       "0                          0.439369                      -0.721946  ...   \n",
       "1                         -0.382374                      -0.229620  ...   \n",
       "2                          0.920590                      -1.223277  ...   \n",
       "3                          0.562598                      -1.349685  ...   \n",
       "4                         -1.375826                      -5.144946  ...   \n",
       "\n",
       "   wheezy-myrtle-mandrill-entropy  wiggy-lilac-lemming-sorted  \\\n",
       "0                        0.351895                    0.618824   \n",
       "1                       -0.645115                   -1.246090   \n",
       "2                        0.516422                    0.130521   \n",
       "3                       -1.168967                    1.385089   \n",
       "4                       -0.279168                    1.544356   \n",
       "\n",
       "   gloppy-cerise-snail-contributor  woozy-silver-havanese-gaussian  \\\n",
       "0                        -1.542423                        0.598175   \n",
       "1                         2.613357                       -0.479664   \n",
       "2                        -0.459210                        2.028205   \n",
       "3                        -0.353028                        3.316150   \n",
       "4                         2.959727                        1.641201   \n",
       "\n",
       "   jumpy-thistle-discus-sorted  muggy-turquoise-donkey-important  \\\n",
       "0                     0.611757                          0.678772   \n",
       "1                     1.581289                          0.931258   \n",
       "2                    -0.093968                         -0.218274   \n",
       "3                    -0.524087                         -0.794327   \n",
       "4                    -0.130818                         -0.264292   \n",
       "\n",
       "   blurry-buff-hyena-entropy  bluesy-chocolate-kudu-fepid  \\\n",
       "0                   0.247059                    -0.806677   \n",
       "1                   0.151937                    -0.766595   \n",
       "2                  -0.163136                    -0.870289   \n",
       "3                   3.936365                     0.682989   \n",
       "4                  -0.748668                     0.964218   \n",
       "\n",
       "   gamy-white-monster-expert  target  \n",
       "0                  -0.193649       0  \n",
       "1                   0.474351       0  \n",
       "2                   0.064038       1  \n",
       "3                  -2.521211       0  \n",
       "4                   0.087079       0  \n",
       "\n",
       "[5 rows x 258 columns]"
      ]
     },
     "execution_count": 4,
     "metadata": {},
     "output_type": "execute_result"
    }
   ],
   "source": [
    "train.head()"
   ]
  },
  {
   "cell_type": "code",
   "execution_count": 5,
   "metadata": {
    "ExecuteTime": {
     "end_time": "2022-07-13T15:06:36.783969Z",
     "start_time": "2022-07-13T15:06:36.761866Z"
    }
   },
   "outputs": [
    {
     "data": {
      "text/html": [
       "<div>\n",
       "<style scoped>\n",
       "    .dataframe tbody tr th:only-of-type {\n",
       "        vertical-align: middle;\n",
       "    }\n",
       "\n",
       "    .dataframe tbody tr th {\n",
       "        vertical-align: top;\n",
       "    }\n",
       "\n",
       "    .dataframe thead th {\n",
       "        text-align: right;\n",
       "    }\n",
       "</style>\n",
       "<table border=\"1\" class=\"dataframe\">\n",
       "  <thead>\n",
       "    <tr style=\"text-align: right;\">\n",
       "      <th></th>\n",
       "      <th>id</th>\n",
       "      <th>muggy-smalt-axolotl-pembus</th>\n",
       "      <th>dorky-peach-sheepdog-ordinal</th>\n",
       "      <th>slimy-seashell-cassowary-goose</th>\n",
       "      <th>snazzy-harlequin-chicken-distraction</th>\n",
       "      <th>frumpy-smalt-mau-ordinal</th>\n",
       "      <th>stealthy-beige-pinscher-golden</th>\n",
       "      <th>chummy-cream-tarantula-entropy</th>\n",
       "      <th>hazy-emerald-cuttlefish-unsorted</th>\n",
       "      <th>nerdy-indigo-wolfhound-sorted</th>\n",
       "      <th>...</th>\n",
       "      <th>goopy-lavender-wolverine-fimbus</th>\n",
       "      <th>wheezy-myrtle-mandrill-entropy</th>\n",
       "      <th>wiggy-lilac-lemming-sorted</th>\n",
       "      <th>gloppy-cerise-snail-contributor</th>\n",
       "      <th>woozy-silver-havanese-gaussian</th>\n",
       "      <th>jumpy-thistle-discus-sorted</th>\n",
       "      <th>muggy-turquoise-donkey-important</th>\n",
       "      <th>blurry-buff-hyena-entropy</th>\n",
       "      <th>bluesy-chocolate-kudu-fepid</th>\n",
       "      <th>gamy-white-monster-expert</th>\n",
       "    </tr>\n",
       "  </thead>\n",
       "  <tbody>\n",
       "    <tr>\n",
       "      <th>0</th>\n",
       "      <td>ba88c155ba898fc8b5099893036ef205</td>\n",
       "      <td>-0.155789</td>\n",
       "      <td>0.761549</td>\n",
       "      <td>1.156785</td>\n",
       "      <td>-0.272358</td>\n",
       "      <td>-1.302155</td>\n",
       "      <td>1.560988</td>\n",
       "      <td>-1.815729</td>\n",
       "      <td>-0.702968</td>\n",
       "      <td>0.435537</td>\n",
       "      <td>...</td>\n",
       "      <td>-4.207352</td>\n",
       "      <td>0.404394</td>\n",
       "      <td>0.695667</td>\n",
       "      <td>0.515584</td>\n",
       "      <td>1.339533</td>\n",
       "      <td>2.005131</td>\n",
       "      <td>-1.832629</td>\n",
       "      <td>-0.454067</td>\n",
       "      <td>-0.204909</td>\n",
       "      <td>-0.314752</td>\n",
       "    </tr>\n",
       "    <tr>\n",
       "      <th>1</th>\n",
       "      <td>7cbab5cea99169139e7e6d8ff74ebb77</td>\n",
       "      <td>-4.528525</td>\n",
       "      <td>-0.158527</td>\n",
       "      <td>0.616473</td>\n",
       "      <td>-0.172137</td>\n",
       "      <td>1.255351</td>\n",
       "      <td>0.064565</td>\n",
       "      <td>-1.124906</td>\n",
       "      <td>-1.826855</td>\n",
       "      <td>-1.429915</td>\n",
       "      <td>...</td>\n",
       "      <td>-0.219057</td>\n",
       "      <td>-1.473936</td>\n",
       "      <td>-1.230680</td>\n",
       "      <td>2.064435</td>\n",
       "      <td>-0.297421</td>\n",
       "      <td>-0.499721</td>\n",
       "      <td>0.138128</td>\n",
       "      <td>-1.674848</td>\n",
       "      <td>-2.368582</td>\n",
       "      <td>0.185971</td>\n",
       "    </tr>\n",
       "    <tr>\n",
       "      <th>2</th>\n",
       "      <td>7baaf361537fbd8a1aaa2c97a6d4ccc7</td>\n",
       "      <td>1.807488</td>\n",
       "      <td>-0.673261</td>\n",
       "      <td>0.526273</td>\n",
       "      <td>0.175929</td>\n",
       "      <td>-0.447282</td>\n",
       "      <td>-0.506135</td>\n",
       "      <td>0.080836</td>\n",
       "      <td>0.371687</td>\n",
       "      <td>-5.816214</td>\n",
       "      <td>...</td>\n",
       "      <td>-4.333965</td>\n",
       "      <td>1.213142</td>\n",
       "      <td>0.639393</td>\n",
       "      <td>0.595109</td>\n",
       "      <td>-1.492298</td>\n",
       "      <td>0.892696</td>\n",
       "      <td>2.198806</td>\n",
       "      <td>0.132664</td>\n",
       "      <td>-0.355048</td>\n",
       "      <td>0.055225</td>\n",
       "    </tr>\n",
       "    <tr>\n",
       "      <th>3</th>\n",
       "      <td>2e1350fe94ec9f2220bec5245e5e9265</td>\n",
       "      <td>0.972763</td>\n",
       "      <td>0.631843</td>\n",
       "      <td>0.854640</td>\n",
       "      <td>-0.040372</td>\n",
       "      <td>1.544211</td>\n",
       "      <td>-0.613590</td>\n",
       "      <td>0.742637</td>\n",
       "      <td>-0.742686</td>\n",
       "      <td>-0.192597</td>\n",
       "      <td>...</td>\n",
       "      <td>-0.272967</td>\n",
       "      <td>0.501091</td>\n",
       "      <td>0.059636</td>\n",
       "      <td>-0.815263</td>\n",
       "      <td>1.898444</td>\n",
       "      <td>-1.613323</td>\n",
       "      <td>1.755354</td>\n",
       "      <td>0.066935</td>\n",
       "      <td>0.523591</td>\n",
       "      <td>-0.790499</td>\n",
       "    </tr>\n",
       "    <tr>\n",
       "      <th>4</th>\n",
       "      <td>626ce222351b68b259f73de172f11249</td>\n",
       "      <td>0.092803</td>\n",
       "      <td>-0.927249</td>\n",
       "      <td>0.601406</td>\n",
       "      <td>-0.136351</td>\n",
       "      <td>-0.439235</td>\n",
       "      <td>1.734636</td>\n",
       "      <td>-2.403782</td>\n",
       "      <td>0.157426</td>\n",
       "      <td>1.147346</td>\n",
       "      <td>...</td>\n",
       "      <td>-0.211730</td>\n",
       "      <td>0.045831</td>\n",
       "      <td>-0.346738</td>\n",
       "      <td>0.558668</td>\n",
       "      <td>-1.985189</td>\n",
       "      <td>-1.011715</td>\n",
       "      <td>1.555390</td>\n",
       "      <td>0.514802</td>\n",
       "      <td>-0.886653</td>\n",
       "      <td>0.655927</td>\n",
       "    </tr>\n",
       "  </tbody>\n",
       "</table>\n",
       "<p>5 rows × 257 columns</p>\n",
       "</div>"
      ],
      "text/plain": [
       "                                 id  muggy-smalt-axolotl-pembus  \\\n",
       "0  ba88c155ba898fc8b5099893036ef205                   -0.155789   \n",
       "1  7cbab5cea99169139e7e6d8ff74ebb77                   -4.528525   \n",
       "2  7baaf361537fbd8a1aaa2c97a6d4ccc7                    1.807488   \n",
       "3  2e1350fe94ec9f2220bec5245e5e9265                    0.972763   \n",
       "4  626ce222351b68b259f73de172f11249                    0.092803   \n",
       "\n",
       "   dorky-peach-sheepdog-ordinal  slimy-seashell-cassowary-goose  \\\n",
       "0                      0.761549                        1.156785   \n",
       "1                     -0.158527                        0.616473   \n",
       "2                     -0.673261                        0.526273   \n",
       "3                      0.631843                        0.854640   \n",
       "4                     -0.927249                        0.601406   \n",
       "\n",
       "   snazzy-harlequin-chicken-distraction  frumpy-smalt-mau-ordinal  \\\n",
       "0                             -0.272358                 -1.302155   \n",
       "1                             -0.172137                  1.255351   \n",
       "2                              0.175929                 -0.447282   \n",
       "3                             -0.040372                  1.544211   \n",
       "4                             -0.136351                 -0.439235   \n",
       "\n",
       "   stealthy-beige-pinscher-golden  chummy-cream-tarantula-entropy  \\\n",
       "0                        1.560988                       -1.815729   \n",
       "1                        0.064565                       -1.124906   \n",
       "2                       -0.506135                        0.080836   \n",
       "3                       -0.613590                        0.742637   \n",
       "4                        1.734636                       -2.403782   \n",
       "\n",
       "   hazy-emerald-cuttlefish-unsorted  nerdy-indigo-wolfhound-sorted  ...  \\\n",
       "0                         -0.702968                       0.435537  ...   \n",
       "1                         -1.826855                      -1.429915  ...   \n",
       "2                          0.371687                      -5.816214  ...   \n",
       "3                         -0.742686                      -0.192597  ...   \n",
       "4                          0.157426                       1.147346  ...   \n",
       "\n",
       "   goopy-lavender-wolverine-fimbus  wheezy-myrtle-mandrill-entropy  \\\n",
       "0                        -4.207352                        0.404394   \n",
       "1                        -0.219057                       -1.473936   \n",
       "2                        -4.333965                        1.213142   \n",
       "3                        -0.272967                        0.501091   \n",
       "4                        -0.211730                        0.045831   \n",
       "\n",
       "   wiggy-lilac-lemming-sorted  gloppy-cerise-snail-contributor  \\\n",
       "0                    0.695667                         0.515584   \n",
       "1                   -1.230680                         2.064435   \n",
       "2                    0.639393                         0.595109   \n",
       "3                    0.059636                        -0.815263   \n",
       "4                   -0.346738                         0.558668   \n",
       "\n",
       "   woozy-silver-havanese-gaussian  jumpy-thistle-discus-sorted  \\\n",
       "0                        1.339533                     2.005131   \n",
       "1                       -0.297421                    -0.499721   \n",
       "2                       -1.492298                     0.892696   \n",
       "3                        1.898444                    -1.613323   \n",
       "4                       -1.985189                    -1.011715   \n",
       "\n",
       "   muggy-turquoise-donkey-important  blurry-buff-hyena-entropy  \\\n",
       "0                         -1.832629                  -0.454067   \n",
       "1                          0.138128                  -1.674848   \n",
       "2                          2.198806                   0.132664   \n",
       "3                          1.755354                   0.066935   \n",
       "4                          1.555390                   0.514802   \n",
       "\n",
       "   bluesy-chocolate-kudu-fepid  gamy-white-monster-expert  \n",
       "0                    -0.204909                  -0.314752  \n",
       "1                    -2.368582                   0.185971  \n",
       "2                    -0.355048                   0.055225  \n",
       "3                     0.523591                  -0.790499  \n",
       "4                    -0.886653                   0.655927  \n",
       "\n",
       "[5 rows x 257 columns]"
      ]
     },
     "execution_count": 5,
     "metadata": {},
     "output_type": "execute_result"
    }
   ],
   "source": [
    "test.head()"
   ]
  },
  {
   "cell_type": "code",
   "execution_count": 6,
   "metadata": {
    "ExecuteTime": {
     "end_time": "2022-07-13T15:06:41.434784Z",
     "start_time": "2022-07-13T15:06:39.815353Z"
    }
   },
   "outputs": [
    {
     "data": {
      "text/html": [
       "<div>\n",
       "<style scoped>\n",
       "    .dataframe tbody tr th:only-of-type {\n",
       "        vertical-align: middle;\n",
       "    }\n",
       "\n",
       "    .dataframe tbody tr th {\n",
       "        vertical-align: top;\n",
       "    }\n",
       "\n",
       "    .dataframe thead th {\n",
       "        text-align: right;\n",
       "    }\n",
       "</style>\n",
       "<table border=\"1\" class=\"dataframe\">\n",
       "  <thead>\n",
       "    <tr style=\"text-align: right;\">\n",
       "      <th></th>\n",
       "      <th>muggy-smalt-axolotl-pembus</th>\n",
       "      <th>dorky-peach-sheepdog-ordinal</th>\n",
       "      <th>slimy-seashell-cassowary-goose</th>\n",
       "      <th>snazzy-harlequin-chicken-distraction</th>\n",
       "      <th>frumpy-smalt-mau-ordinal</th>\n",
       "      <th>stealthy-beige-pinscher-golden</th>\n",
       "      <th>chummy-cream-tarantula-entropy</th>\n",
       "      <th>hazy-emerald-cuttlefish-unsorted</th>\n",
       "      <th>nerdy-indigo-wolfhound-sorted</th>\n",
       "      <th>leaky-amaranth-lizard-sorted</th>\n",
       "      <th>...</th>\n",
       "      <th>wheezy-myrtle-mandrill-entropy</th>\n",
       "      <th>wiggy-lilac-lemming-sorted</th>\n",
       "      <th>gloppy-cerise-snail-contributor</th>\n",
       "      <th>woozy-silver-havanese-gaussian</th>\n",
       "      <th>jumpy-thistle-discus-sorted</th>\n",
       "      <th>muggy-turquoise-donkey-important</th>\n",
       "      <th>blurry-buff-hyena-entropy</th>\n",
       "      <th>bluesy-chocolate-kudu-fepid</th>\n",
       "      <th>gamy-white-monster-expert</th>\n",
       "      <th>target</th>\n",
       "    </tr>\n",
       "  </thead>\n",
       "  <tbody>\n",
       "    <tr>\n",
       "      <th>count</th>\n",
       "      <td>262144.000000</td>\n",
       "      <td>262144.000000</td>\n",
       "      <td>262144.000000</td>\n",
       "      <td>262144.000000</td>\n",
       "      <td>262144.000000</td>\n",
       "      <td>262144.000000</td>\n",
       "      <td>262144.000000</td>\n",
       "      <td>262144.000000</td>\n",
       "      <td>262144.000000</td>\n",
       "      <td>262144.000000</td>\n",
       "      <td>...</td>\n",
       "      <td>262144.000000</td>\n",
       "      <td>262144.000000</td>\n",
       "      <td>262144.000000</td>\n",
       "      <td>262144.000000</td>\n",
       "      <td>262144.000000</td>\n",
       "      <td>262144.000000</td>\n",
       "      <td>262144.000000</td>\n",
       "      <td>262144.000000</td>\n",
       "      <td>262144.000000</td>\n",
       "      <td>262144.000000</td>\n",
       "    </tr>\n",
       "    <tr>\n",
       "      <th>mean</th>\n",
       "      <td>0.005924</td>\n",
       "      <td>0.000936</td>\n",
       "      <td>-0.012530</td>\n",
       "      <td>-0.005688</td>\n",
       "      <td>0.001607</td>\n",
       "      <td>0.007878</td>\n",
       "      <td>-0.003500</td>\n",
       "      <td>-0.005927</td>\n",
       "      <td>0.002664</td>\n",
       "      <td>0.020485</td>\n",
       "      <td>...</td>\n",
       "      <td>-0.002670</td>\n",
       "      <td>-0.011401</td>\n",
       "      <td>0.007895</td>\n",
       "      <td>0.000651</td>\n",
       "      <td>-0.002613</td>\n",
       "      <td>0.002351</td>\n",
       "      <td>-0.011684</td>\n",
       "      <td>-0.007153</td>\n",
       "      <td>-0.004066</td>\n",
       "      <td>0.500225</td>\n",
       "    </tr>\n",
       "    <tr>\n",
       "      <th>std</th>\n",
       "      <td>1.706660</td>\n",
       "      <td>1.720943</td>\n",
       "      <td>1.698693</td>\n",
       "      <td>1.874875</td>\n",
       "      <td>1.726869</td>\n",
       "      <td>1.734646</td>\n",
       "      <td>1.720431</td>\n",
       "      <td>1.693276</td>\n",
       "      <td>1.872248</td>\n",
       "      <td>1.645070</td>\n",
       "      <td>...</td>\n",
       "      <td>1.799308</td>\n",
       "      <td>1.788832</td>\n",
       "      <td>1.775853</td>\n",
       "      <td>1.703296</td>\n",
       "      <td>1.692972</td>\n",
       "      <td>1.742284</td>\n",
       "      <td>1.698231</td>\n",
       "      <td>1.759408</td>\n",
       "      <td>1.661463</td>\n",
       "      <td>0.500001</td>\n",
       "    </tr>\n",
       "    <tr>\n",
       "      <th>min</th>\n",
       "      <td>-15.588429</td>\n",
       "      <td>-15.644144</td>\n",
       "      <td>-15.235982</td>\n",
       "      <td>-15.672966</td>\n",
       "      <td>-16.800626</td>\n",
       "      <td>-14.789422</td>\n",
       "      <td>-15.591329</td>\n",
       "      <td>-15.696478</td>\n",
       "      <td>-17.011807</td>\n",
       "      <td>-14.693510</td>\n",
       "      <td>...</td>\n",
       "      <td>-16.740804</td>\n",
       "      <td>-17.681945</td>\n",
       "      <td>-15.705197</td>\n",
       "      <td>-15.765274</td>\n",
       "      <td>-15.604682</td>\n",
       "      <td>-16.965775</td>\n",
       "      <td>-15.064518</td>\n",
       "      <td>-16.145154</td>\n",
       "      <td>-16.815640</td>\n",
       "      <td>0.000000</td>\n",
       "    </tr>\n",
       "    <tr>\n",
       "      <th>25%</th>\n",
       "      <td>-0.765404</td>\n",
       "      <td>-0.770224</td>\n",
       "      <td>-0.777421</td>\n",
       "      <td>-0.802502</td>\n",
       "      <td>-0.770838</td>\n",
       "      <td>-0.771608</td>\n",
       "      <td>-0.770634</td>\n",
       "      <td>-0.764398</td>\n",
       "      <td>-0.795475</td>\n",
       "      <td>-0.756594</td>\n",
       "      <td>...</td>\n",
       "      <td>-0.782944</td>\n",
       "      <td>-0.788437</td>\n",
       "      <td>-0.778580</td>\n",
       "      <td>-0.767367</td>\n",
       "      <td>-0.764199</td>\n",
       "      <td>-0.770457</td>\n",
       "      <td>-0.768885</td>\n",
       "      <td>-0.785702</td>\n",
       "      <td>-0.766552</td>\n",
       "      <td>0.000000</td>\n",
       "    </tr>\n",
       "    <tr>\n",
       "      <th>50%</th>\n",
       "      <td>0.002148</td>\n",
       "      <td>0.003543</td>\n",
       "      <td>-0.005771</td>\n",
       "      <td>-0.003505</td>\n",
       "      <td>0.000866</td>\n",
       "      <td>0.002830</td>\n",
       "      <td>0.001257</td>\n",
       "      <td>-0.003657</td>\n",
       "      <td>0.004936</td>\n",
       "      <td>0.004372</td>\n",
       "      <td>...</td>\n",
       "      <td>-0.002239</td>\n",
       "      <td>-0.004543</td>\n",
       "      <td>-0.000675</td>\n",
       "      <td>0.000771</td>\n",
       "      <td>-0.000331</td>\n",
       "      <td>-0.000617</td>\n",
       "      <td>-0.005634</td>\n",
       "      <td>-0.004459</td>\n",
       "      <td>-0.004471</td>\n",
       "      <td>1.000000</td>\n",
       "    </tr>\n",
       "    <tr>\n",
       "      <th>75%</th>\n",
       "      <td>0.769228</td>\n",
       "      <td>0.773400</td>\n",
       "      <td>0.764092</td>\n",
       "      <td>0.798460</td>\n",
       "      <td>0.769954</td>\n",
       "      <td>0.776606</td>\n",
       "      <td>0.769794</td>\n",
       "      <td>0.752836</td>\n",
       "      <td>0.800376</td>\n",
       "      <td>0.764807</td>\n",
       "      <td>...</td>\n",
       "      <td>0.786180</td>\n",
       "      <td>0.776178</td>\n",
       "      <td>0.788910</td>\n",
       "      <td>0.769277</td>\n",
       "      <td>0.764115</td>\n",
       "      <td>0.773100</td>\n",
       "      <td>0.753518</td>\n",
       "      <td>0.774197</td>\n",
       "      <td>0.758012</td>\n",
       "      <td>1.000000</td>\n",
       "    </tr>\n",
       "    <tr>\n",
       "      <th>max</th>\n",
       "      <td>15.797000</td>\n",
       "      <td>18.577178</td>\n",
       "      <td>17.205310</td>\n",
       "      <td>16.585173</td>\n",
       "      <td>16.815798</td>\n",
       "      <td>17.378922</td>\n",
       "      <td>15.202100</td>\n",
       "      <td>16.645394</td>\n",
       "      <td>19.396192</td>\n",
       "      <td>17.131375</td>\n",
       "      <td>...</td>\n",
       "      <td>15.511936</td>\n",
       "      <td>16.252503</td>\n",
       "      <td>16.387990</td>\n",
       "      <td>16.260286</td>\n",
       "      <td>14.748128</td>\n",
       "      <td>16.212146</td>\n",
       "      <td>18.866005</td>\n",
       "      <td>18.811832</td>\n",
       "      <td>17.302211</td>\n",
       "      <td>1.000000</td>\n",
       "    </tr>\n",
       "  </tbody>\n",
       "</table>\n",
       "<p>8 rows × 257 columns</p>\n",
       "</div>"
      ],
      "text/plain": [
       "       muggy-smalt-axolotl-pembus  dorky-peach-sheepdog-ordinal  \\\n",
       "count               262144.000000                 262144.000000   \n",
       "mean                     0.005924                      0.000936   \n",
       "std                      1.706660                      1.720943   \n",
       "min                    -15.588429                    -15.644144   \n",
       "25%                     -0.765404                     -0.770224   \n",
       "50%                      0.002148                      0.003543   \n",
       "75%                      0.769228                      0.773400   \n",
       "max                     15.797000                     18.577178   \n",
       "\n",
       "       slimy-seashell-cassowary-goose  snazzy-harlequin-chicken-distraction  \\\n",
       "count                   262144.000000                         262144.000000   \n",
       "mean                        -0.012530                             -0.005688   \n",
       "std                          1.698693                              1.874875   \n",
       "min                        -15.235982                            -15.672966   \n",
       "25%                         -0.777421                             -0.802502   \n",
       "50%                         -0.005771                             -0.003505   \n",
       "75%                          0.764092                              0.798460   \n",
       "max                         17.205310                             16.585173   \n",
       "\n",
       "       frumpy-smalt-mau-ordinal  stealthy-beige-pinscher-golden  \\\n",
       "count             262144.000000                   262144.000000   \n",
       "mean                   0.001607                        0.007878   \n",
       "std                    1.726869                        1.734646   \n",
       "min                  -16.800626                      -14.789422   \n",
       "25%                   -0.770838                       -0.771608   \n",
       "50%                    0.000866                        0.002830   \n",
       "75%                    0.769954                        0.776606   \n",
       "max                   16.815798                       17.378922   \n",
       "\n",
       "       chummy-cream-tarantula-entropy  hazy-emerald-cuttlefish-unsorted  \\\n",
       "count                   262144.000000                     262144.000000   \n",
       "mean                        -0.003500                         -0.005927   \n",
       "std                          1.720431                          1.693276   \n",
       "min                        -15.591329                        -15.696478   \n",
       "25%                         -0.770634                         -0.764398   \n",
       "50%                          0.001257                         -0.003657   \n",
       "75%                          0.769794                          0.752836   \n",
       "max                         15.202100                         16.645394   \n",
       "\n",
       "       nerdy-indigo-wolfhound-sorted  leaky-amaranth-lizard-sorted  ...  \\\n",
       "count                  262144.000000                 262144.000000  ...   \n",
       "mean                        0.002664                      0.020485  ...   \n",
       "std                         1.872248                      1.645070  ...   \n",
       "min                       -17.011807                    -14.693510  ...   \n",
       "25%                        -0.795475                     -0.756594  ...   \n",
       "50%                         0.004936                      0.004372  ...   \n",
       "75%                         0.800376                      0.764807  ...   \n",
       "max                        19.396192                     17.131375  ...   \n",
       "\n",
       "       wheezy-myrtle-mandrill-entropy  wiggy-lilac-lemming-sorted  \\\n",
       "count                   262144.000000               262144.000000   \n",
       "mean                        -0.002670                   -0.011401   \n",
       "std                          1.799308                    1.788832   \n",
       "min                        -16.740804                  -17.681945   \n",
       "25%                         -0.782944                   -0.788437   \n",
       "50%                         -0.002239                   -0.004543   \n",
       "75%                          0.786180                    0.776178   \n",
       "max                         15.511936                   16.252503   \n",
       "\n",
       "       gloppy-cerise-snail-contributor  woozy-silver-havanese-gaussian  \\\n",
       "count                    262144.000000                   262144.000000   \n",
       "mean                          0.007895                        0.000651   \n",
       "std                           1.775853                        1.703296   \n",
       "min                         -15.705197                      -15.765274   \n",
       "25%                          -0.778580                       -0.767367   \n",
       "50%                          -0.000675                        0.000771   \n",
       "75%                           0.788910                        0.769277   \n",
       "max                          16.387990                       16.260286   \n",
       "\n",
       "       jumpy-thistle-discus-sorted  muggy-turquoise-donkey-important  \\\n",
       "count                262144.000000                     262144.000000   \n",
       "mean                     -0.002613                          0.002351   \n",
       "std                       1.692972                          1.742284   \n",
       "min                     -15.604682                        -16.965775   \n",
       "25%                      -0.764199                         -0.770457   \n",
       "50%                      -0.000331                         -0.000617   \n",
       "75%                       0.764115                          0.773100   \n",
       "max                      14.748128                         16.212146   \n",
       "\n",
       "       blurry-buff-hyena-entropy  bluesy-chocolate-kudu-fepid  \\\n",
       "count              262144.000000                262144.000000   \n",
       "mean                   -0.011684                    -0.007153   \n",
       "std                     1.698231                     1.759408   \n",
       "min                   -15.064518                   -16.145154   \n",
       "25%                    -0.768885                    -0.785702   \n",
       "50%                    -0.005634                    -0.004459   \n",
       "75%                     0.753518                     0.774197   \n",
       "max                    18.866005                    18.811832   \n",
       "\n",
       "       gamy-white-monster-expert         target  \n",
       "count              262144.000000  262144.000000  \n",
       "mean                   -0.004066       0.500225  \n",
       "std                     1.661463       0.500001  \n",
       "min                   -16.815640       0.000000  \n",
       "25%                    -0.766552       0.000000  \n",
       "50%                    -0.004471       1.000000  \n",
       "75%                     0.758012       1.000000  \n",
       "max                    17.302211       1.000000  \n",
       "\n",
       "[8 rows x 257 columns]"
      ]
     },
     "execution_count": 6,
     "metadata": {},
     "output_type": "execute_result"
    }
   ],
   "source": [
    "train.describe()"
   ]
  },
  {
   "cell_type": "code",
   "execution_count": 12,
   "metadata": {},
   "outputs": [],
   "source": [
    "# 1. 数据集很有可能是人造的数据集。\n",
    "# 2. 字段很多200+，字段展示的为数值类型。\n",
    "# 3. wheezy-copper-turtle-magic是不是对样本进行分组的变量"
   ]
  },
  {
   "cell_type": "markdown",
   "metadata": {},
   "source": [
    "## 随机选择模型尝试拟合"
   ]
  },
  {
   "cell_type": "code",
   "execution_count": 15,
   "metadata": {
    "ExecuteTime": {
     "end_time": "2022-07-13T15:22:21.375470Z",
     "start_time": "2022-07-13T15:22:21.372447Z"
    }
   },
   "outputs": [],
   "source": [
    "feature_names = train.columns[1:-1]\n",
    "target = train['target']"
   ]
  },
  {
   "cell_type": "code",
   "execution_count": 17,
   "metadata": {
    "ExecuteTime": {
     "end_time": "2022-07-13T15:23:02.356835Z",
     "start_time": "2022-07-13T15:23:02.352098Z"
    }
   },
   "outputs": [
    {
     "data": {
      "text/plain": [
       "(Index(['muggy-smalt-axolotl-pembus', 'dorky-peach-sheepdog-ordinal',\n",
       "        'slimy-seashell-cassowary-goose',\n",
       "        'snazzy-harlequin-chicken-distraction', 'frumpy-smalt-mau-ordinal',\n",
       "        'stealthy-beige-pinscher-golden', 'chummy-cream-tarantula-entropy',\n",
       "        'hazy-emerald-cuttlefish-unsorted', 'nerdy-indigo-wolfhound-sorted',\n",
       "        'leaky-amaranth-lizard-sorted',\n",
       "        ...\n",
       "        'goopy-lavender-wolverine-fimbus', 'wheezy-myrtle-mandrill-entropy',\n",
       "        'wiggy-lilac-lemming-sorted', 'gloppy-cerise-snail-contributor',\n",
       "        'woozy-silver-havanese-gaussian', 'jumpy-thistle-discus-sorted',\n",
       "        'muggy-turquoise-donkey-important', 'blurry-buff-hyena-entropy',\n",
       "        'bluesy-chocolate-kudu-fepid', 'gamy-white-monster-expert'],\n",
       "       dtype='object', length=256),\n",
       " 0         0\n",
       " 1         0\n",
       " 2         1\n",
       " 3         0\n",
       " 4         0\n",
       "          ..\n",
       " 262139    0\n",
       " 262140    1\n",
       " 262141    0\n",
       " 262142    0\n",
       " 262143    0\n",
       " Name: target, Length: 262144, dtype: int64)"
      ]
     },
     "execution_count": 17,
     "metadata": {},
     "output_type": "execute_result"
    }
   ],
   "source": [
    "feature_names, target"
   ]
  },
  {
   "cell_type": "code",
   "execution_count": 19,
   "metadata": {
    "ExecuteTime": {
     "end_time": "2022-07-13T15:25:27.357125Z",
     "start_time": "2022-07-13T15:25:25.895280Z"
    }
   },
   "outputs": [
    {
     "data": {
      "text/plain": [
       "array([['707b395ecdcbb4dc2eabea00e4d1b179', -2.070654, 1.01816, ...,\n",
       "        -0.8066770000000001, -0.193649, 0],\n",
       "       ['5880c03c6582a7b42248668e56b4bdec', -0.49170200000000003,\n",
       "        0.08264500000000001, ..., -0.766595, 0.474351, 0],\n",
       "       ['4ccbcb3d13e5072ff1d9c61afe2c4f77', -1.6804729999999999,\n",
       "        0.8605290000000001, ..., -0.870289, 0.064038, 1],\n",
       "       ...,\n",
       "       ['701bb66c395a22e4e4fea479ed2c1431', 0.6227060000000001,\n",
       "        -0.604056, ..., -0.7471270000000001, 0.8194950000000001, 0],\n",
       "       ['94a2f68c5432e7fe4f53a78c1a273a89', -0.548235,\n",
       "        0.9967739999999999, ..., 0.127323, -1.2105139999999999, 0],\n",
       "       ['54370ebe6b52ffd6f0305f97e3b63d3e', -0.16731400000000002,\n",
       "        -0.797616, ..., 1.0465209999999998, -0.094963, 0]], dtype=object)"
      ]
     },
     "execution_count": 19,
     "metadata": {},
     "output_type": "execute_result"
    }
   ],
   "source": [
    "train.values"
   ]
  },
  {
   "cell_type": "code",
   "execution_count": 20,
   "metadata": {
    "ExecuteTime": {
     "end_time": "2022-07-13T15:33:49.853324Z",
     "start_time": "2022-07-13T15:33:24.396134Z"
    }
   },
   "outputs": [
    {
     "name": "stdout",
     "output_type": "stream",
     "text": [
      "0.5292163989160692\n",
      "0.5342289093255981\n",
      "0.5247122452147133\n",
      "0.5251486506501144\n",
      "0.5310343767371337\n",
      "0.5326239254586553\n",
      "0.5329012236342263\n",
      "0.5321269622834724\n",
      "0.5291737757139734\n",
      "0.5293502667648846\n"
     ]
    }
   ],
   "source": [
    "# 交叉验证\n",
    "skf = StratifiedKFold(n_splits=10, shuffle=True)\n",
    "train_oof = np.zeros(train.shape[0])\n",
    "test_oof = np.zeros(test.shape[0])\n",
    "\n",
    "from sklearn.linear_model import LogisticRegression\n",
    "for trn_idx, val_idx in skf.split(train.values, target.values):\n",
    "    # print(target.iloc[val_idx].value_counts())\n",
    "    \n",
    "    # 样本子集\n",
    "    x_train, y_train = train.iloc[trn_idx][feature_names], target.iloc[trn_idx]\n",
    "    x_val, y_val = train.iloc[val_idx][feature_names], target.iloc[val_idx]\n",
    "    \n",
    "    # 模型定义+训练\n",
    "    clf = LogisticRegression()\n",
    "    clf.fit(x_train, y_train)\n",
    "    \n",
    "    # 验证集预测\n",
    "    val_pred = clf.predict_proba(x_val)[:, 1]\n",
    "    train_oof[val_idx] = val_pred\n",
    "\n",
    "    # 测试集预测\n",
    "    test_oof += clf.predict_proba(test[feature_names])[:, 1]\n",
    "    \n",
    "    # 打印 auc\n",
    "    print(roc_auc_score(y_val, val_pred))\n",
    "\n",
    "test_oof /= 10"
   ]
  },
  {
   "cell_type": "markdown",
   "metadata": {},
   "source": [
    "## 模型训练结果为瞎猜\n",
    "\n",
    "    - feature engineering 进行特征挖掘"
   ]
  },
  {
   "cell_type": "code",
   "execution_count": 21,
   "metadata": {
    "ExecuteTime": {
     "end_time": "2022-07-13T15:59:08.861665Z",
     "start_time": "2022-07-13T15:59:05.985029Z"
    }
   },
   "outputs": [
    {
     "name": "stdout",
     "output_type": "stream",
     "text": [
      "muggy-smalt-axolotl-pembus 254322\n",
      "dorky-peach-sheepdog-ordinal 254588\n",
      "slimy-seashell-cassowary-goose 254356\n",
      "snazzy-harlequin-chicken-distraction 254576\n",
      "frumpy-smalt-mau-ordinal 254330\n",
      "stealthy-beige-pinscher-golden 254270\n",
      "chummy-cream-tarantula-entropy 254324\n",
      "hazy-emerald-cuttlefish-unsorted 254224\n",
      "nerdy-indigo-wolfhound-sorted 254752\n",
      "leaky-amaranth-lizard-sorted 254205\n",
      "ugly-tangerine-chihuahua-important 254170\n",
      "shaggy-silver-indri-fimbus 253956\n",
      "flaky-chocolate-beetle-grandmaster 254352\n",
      "squirrely-harlequin-sheep-sumble 254224\n",
      "freaky-tan-angelfish-noise 254240\n",
      "lousy-plum-penguin-sumble 254554\n",
      "bluesy-rose-wallaby-discard 254273\n",
      "baggy-copper-oriole-dummy 253989\n",
      "stealthy-scarlet-hound-fepid 254548\n",
      "greasy-cinnamon-bonobo-contributor 254417\n",
      "cranky-cardinal-dogfish-ordinal 254235\n",
      "snippy-auburn-vole-learn 254154\n",
      "greasy-sepia-coral-dataset 254472\n",
      "flabby-tangerine-fowl-entropy 254459\n",
      "lousy-smalt-pinscher-dummy 254462\n",
      "bluesy-brass-chihuahua-distraction 254302\n",
      "goopy-eggplant-indri-entropy 254591\n",
      "homey-sepia-bombay-sorted 254608\n",
      "homely-ruby-bulldog-entropy 254375\n",
      "hasty-blue-sheep-contributor 254446\n",
      "blurry-wisteria-oyster-master 254642\n",
      "snoopy-auburn-dogfish-expert 254194\n",
      "stinky-maroon-blue-kernel 254430\n",
      "bumpy-amaranth-armadillo-important 254494\n",
      "slaphappy-peach-oyster-master 254489\n",
      "dorky-tomato-ragdoll-dataset 254376\n",
      "messy-mauve-wolverine-ordinal 254677\n",
      "geeky-pumpkin-moorhen-important 254426\n",
      "crabby-teal-otter-unsorted 254164\n",
      "flaky-goldenrod-bat-noise 254409\n",
      "beady-aquamarine-affenpinscher-grandmaster 254562\n",
      "pasty-auburn-rat-entropy 254581\n",
      "snappy-gamboge-caterpillar-dummy 254167\n",
      "breezy-persimmon-newt-noise 254541\n",
      "baggy-mustard-collie-hint 254397\n",
      "sunny-red-weasel-hint 254597\n",
      "cheeky-red-armadillo-unsorted 254117\n",
      "wiggy-magnolia-wolfhound-sorted 254558\n",
      "flimsy-chestnut-guppy-important 254625\n",
      "beady-champagne-bullfrog-grandmaster 254558\n",
      "lanky-emerald-alligator-kernel 254571\n",
      "blurry-flax-sloth-fepid 254349\n",
      "scanty-viridian-guppy-grandmaster 254416\n",
      "blurry-amber-moth-dataset 254319\n",
      "grumpy-zucchini-kudu-kernel 254512\n",
      "chewy-myrtle-wasp-important 254209\n",
      "snappy-lemon-okapi-ordinal 254397\n",
      "cranky-eggplant-oyster-sumble 254505\n",
      "snappy-pear-quoll-unsorted 254338\n",
      "crappy-cream-shrew-unsorted 254524\n",
      "bluesy-amber-walrus-fepid 254352\n",
      "clammy-xanthic-affenpinscher-golden 254296\n",
      "slimy-blue-alligator-master 254693\n",
      "hazy-tan-schnauzer-hint 254947\n",
      "breezy-aquamarine-sloth-sorted 254457\n",
      "tasty-indigo-termite-ordinal 254545\n",
      "thirsty-gamboge-dragonfly-kernel 254448\n",
      "gloppy-turquoise-quoll-goose 254507\n",
      "gamy-lilac-kakapo-expert 254652\n",
      "geeky-amethyst-quetzal-unsorted 254511\n",
      "hilly-lime-vole-novice 254396\n",
      "baggy-champagne-capuchin-discard 254334\n",
      "dorky-amaranth-eel-grandmaster 254607\n",
      "hasty-pink-iguana-noise 254737\n",
      "snoopy-red-zonkey-unsorted 254441\n",
      "tasty-periwinkle-fousek-unsorted 254509\n",
      "homey-scarlet-javanese-novice 254470\n",
      "woozy-crimson-beetle-contributor 254393\n",
      "snippy-burgundy-leopard-expert 254452\n",
      "slimy-purple-gorilla-goose 254653\n",
      "snappy-brass-malamute-entropy 254281\n",
      "greasy-rust-birman-kernel 254301\n",
      "goopy-copper-fousek-distraction 254314\n",
      "snazzy-cerise-donkey-distraction 254698\n",
      "squeaky-khaki-lionfish-distraction 254815\n",
      "snazzy-malachite-llama-unsorted 254564\n",
      "nerdy-violet-rat-pembus 254482\n",
      "clammy-scarlet-emu-important 254594\n",
      "lovely-sangria-koala-contributor 254316\n",
      "blurry-sangria-saola-gaussian 254241\n",
      "paltry-seashell-neanderthal-master 254412\n",
      "crappy-pumpkin-saola-grandmaster 254354\n",
      "smelly-tangerine-horse-gaussian 254378\n",
      "cranky-magenta-mammoth-distraction 254373\n",
      "hazy-champagne-duck-entropy 254515\n",
      "flaky-cream-peccary-sorted 254731\n",
      "pokey-russet-hippopotamus-master 254296\n",
      "leaky-apricot-mammoth-unsorted 254386\n",
      "flaky-brass-grasshopper-sorted 254564\n",
      "skanky-cobalt-dolphin-sorted 254275\n",
      "zippy-platinum-gharial-kernel 254372\n",
      "sleazy-cinnamon-frog-grandmaster 254477\n",
      "gloppy-denim-ostrich-gaussian 254485\n",
      "smelly-yellow-akbash-important 254238\n",
      "shaggy-sapphire-eel-unsorted 254351\n",
      "queasy-peach-bison-sumble 254795\n",
      "foggy-denim-hyrax-important 254379\n",
      "grumpy-bronze-capybara-sumble 254293\n",
      "ugly-green-earwig-noise 254366\n",
      "slimy-thistle-cuscus-hint 254551\n",
      "chummy-ruby-chinook-dataset 254063\n",
      "cranky-champagne-jackal-gaussian 254809\n",
      "lousy-wisteria-hornet-entropy 254251\n",
      "wheezy-harlequin-earwig-gaussian 254004\n",
      "tasty-buff-monkey-learn 254097\n",
      "droopy-razzmatazz-bordeaux-dummy 254315\n",
      "cozy-khaki-reindeer-golden 254384\n",
      "greasy-crimson-squid-grandmaster 254422\n",
      "dorky-turquoise-maltese-important 254122\n",
      "lousy-blue-buffalo-entropy 254429\n",
      "skinny-yellow-hedgehog-sumble 254288\n",
      "pasty-flax-octopus-dataset 254667\n",
      "pasty-sepia-eel-noise 254732\n",
      "seedy-charcoal-capybara-ordinal 254093\n",
      "cranky-ultramarine-swan-pembus 254625\n",
      "hasty-puce-fowl-fepid 254496\n",
      "sunny-purple-husky-noise 254561\n",
      "stuffy-periwinkle-zebu-discard 254221\n",
      "nerdy-teal-olm-fepid 254136\n",
      "jumpy-blue-bison-sorted 254479\n",
      "wiggy-denim-retriever-distraction 254777\n",
      "messy-cardinal-lemur-distraction 254243\n",
      "scanty-periwinkle-dhole-dataset 254083\n",
      "snazzy-purple-donkey-discard 254600\n",
      "skanky-carmine-rabbit-contributor 254247\n",
      "wheezy-red-iguana-entropy 254419\n",
      "gloppy-mauve-bonobo-important 254266\n",
      "breezy-magenta-loon-hint 254406\n",
      "skinny-ultramarine-cat-fimbus 255057\n",
      "trippy-harlequin-maltese-expert 254657\n",
      "breezy-myrtle-loon-discard 254775\n",
      "woolly-gold-millipede-fimbus 254547\n",
      "beady-lilac-hornet-expert 254496\n",
      "bluesy-amethyst-octopus-gaussian 254336\n",
      "dorky-cream-flamingo-novice 254514\n",
      "lanky-puce-opossum-dummy 254417\n",
      "wheezy-copper-turtle-magic 512\n",
      "gimpy-asparagus-eagle-novice 254649\n",
      "randy-ivory-eleuth-discard 254424\n",
      "beady-orange-binturong-golden 254325\n",
      "zippy-harlequin-otter-grandmaster 254301\n",
      "cozy-vermilion-uguisu-grandmaster 254340\n",
      "slimy-plum-cassowary-master 254536\n",
      "seedy-chartreuse-whippet-hint 254425\n",
      "messy-zucchini-tiger-contributor 254528\n",
      "stealthy-yellow-lobster-goose 254371\n",
      "snazzy-cream-macaque-novice 254509\n",
      "muggy-pumpkin-scorpion-grandmaster 254321\n",
      "lovely-plum-goat-novice 254187\n",
      "ugly-tangerine-llama-goose 254414\n",
      "silly-tan-tapir-pembus 254507\n",
      "stuffy-aquamarine-audemer-fimbus 254455\n",
      "cheeky-plum-fox-noise 254577\n",
      "snoopy-heliotrope-squid-dataset 254824\n",
      "slimy-azure-molly-sumble 254123\n",
      "skanky-puce-discus-contributor 254245\n",
      "flimsy-magnolia-gopher-learn 254747\n",
      "paltry-sangria-lemur-fepid 254568\n",
      "leaky-grey-gerbil-sorted 254666\n",
      "craggy-maroon-civet-grandmaster 254715\n",
      "wiggy-cinnamon-gecko-important 254289\n",
      "skimpy-chocolate-dog-learn 254614\n",
      "nippy-jade-squirt-important 254344\n",
      "whiny-flax-sloth-learn 254713\n",
      "freaky-olive-insect-ordinal 254516\n",
      "boozy-amethyst-tarsier-dataset 254676\n",
      "dorky-rose-whale-novice 254522\n",
      "bumpy-amaranth-bonobo-gaussian 254408\n",
      "squirrely-apricot-goat-hint 254515\n",
      "lanky-coral-moorhen-expert 253919\n",
      "greasy-scarlet-paradise-goose 254415\n",
      "lousy-asparagus-tiger-discard 254170\n",
      "smelly-brown-deer-entropy 254266\n",
      "stealthy-chocolate-urchin-kernel 254491\n",
      "flabby-beige-serval-noise 254457\n",
      "skinny-indigo-tarantula-expert 254429\n",
      "zippy-cerise-weasel-contributor 254434\n",
      "nippy-pumpkin-rhinoceros-entropy 254305\n",
      "pretty-copper-insect-discard 254546\n",
      "grumpy-sapphire-akbash-fimbus 254277\n",
      "pasty-aquamarine-numbat-pembus 254473\n",
      "woolly-cinnabar-schnauzer-important 254326\n",
      "gloppy-buff-frigatebird-dataset 254591\n",
      "wheezy-lavender-catfish-master 254219\n",
      "gamy-plum-tarsier-kernel 254543\n",
      "flaky-crimson-wallaby-distraction 254504\n",
      "cheeky-pear-horse-fimbus 254607\n",
      "trippy-asparagus-bison-expert 254663\n",
      "lanky-aqua-bullfrog-important 254731\n",
      "stinky-olive-kiwi-golden 254554\n",
      "sickly-denim-oriole-important 254279\n",
      "gloppy-persimmon-bee-unsorted 254083\n",
      "stealthy-azure-gopher-hint 254489\n",
      "hasty-ivory-dragonfly-goose 254559\n",
      "flimsy-turquoise-fox-kernel 254313\n",
      "lousy-zucchini-seahorse-dummy 254577\n",
      "shabby-magenta-whippet-novice 254398\n",
      "chewy-lime-peccary-fimbus 254526\n",
      "nippy-burgundy-beagle-novice 254768\n",
      "gloppy-firebrick-moth-dataset 254581\n",
      "sleazy-russet-iguana-unsorted 254752\n",
      "surly-corn-tzu-kernel 254456\n",
      "skinny-myrtle-whippet-fepid 254364\n",
      "homey-tangerine-sloth-discard 254355\n",
      "blurry-green-dodo-important 254530\n",
      "skinny-champagne-mayfly-sorted 254469\n",
      "dorky-purple-kiwi-hint 254376\n",
      "beady-mauve-frog-distraction 254505\n",
      "surly-brass-maltese-ordinal 254261\n",
      "beady-asparagus-opossum-expert 254402\n",
      "beady-rust-impala-dummy 254286\n",
      "droopy-amethyst-dachshund-hint 254752\n",
      "homey-crimson-budgerigar-grandmaster 254496\n",
      "droopy-cardinal-impala-important 254422\n",
      "woozy-apricot-moose-hint 254214\n",
      "paltry-sapphire-labradoodle-dummy 254254\n",
      "crappy-carmine-eagle-entropy 254165\n",
      "greasy-magnolia-spider-grandmaster 254472\n",
      "crabby-carmine-flounder-sorted 254521\n",
      "skimpy-copper-fowl-grandmaster 254780\n",
      "hasty-seashell-woodpecker-hint 254710\n",
      "snappy-purple-bobcat-important 254733\n",
      "thirsty-carmine-corgi-ordinal 254455\n",
      "homely-auburn-reindeer-unsorted 254524\n",
      "crappy-beige-tiger-fepid 254379\n",
      "cranky-auburn-swan-novice 254298\n",
      "chewy-bistre-buzzard-expert 254991\n",
      "skinny-cyan-macaque-pembus 254508\n",
      "slimy-periwinkle-otter-expert 254339\n"
     ]
    },
    {
     "name": "stdout",
     "output_type": "stream",
     "text": [
      "snazzy-burgundy-clam-novice 254705\n",
      "cozy-ochre-gorilla-gaussian 254806\n",
      "homey-sangria-wolfhound-dummy 254386\n",
      "snazzy-asparagus-hippopotamus-contributor 254603\n",
      "paltry-red-hamster-sorted 254348\n",
      "zippy-dandelion-insect-golden 254631\n",
      "baggy-coral-bandicoot-unsorted 254637\n",
      "goopy-lavender-wolverine-fimbus 254465\n",
      "wheezy-myrtle-mandrill-entropy 254718\n",
      "wiggy-lilac-lemming-sorted 254630\n",
      "gloppy-cerise-snail-contributor 254381\n",
      "woozy-silver-havanese-gaussian 254383\n",
      "jumpy-thistle-discus-sorted 254261\n",
      "muggy-turquoise-donkey-important 254366\n",
      "blurry-buff-hyena-entropy 254345\n",
      "bluesy-chocolate-kudu-fepid 254329\n",
      "gamy-white-monster-expert 254192\n"
     ]
    }
   ],
   "source": [
    "#  打印特征，以及不同值的个数，特征取值空间非常大\n",
    "# 注意到 wheezy-copper-turtle-magic 特征 取值空间只有 512 维度，应该是一个重要特征 \n",
    "for col in train.columns[1:-1]:\n",
    "    print(col, train[col].nunique())"
   ]
  },
  {
   "cell_type": "code",
   "execution_count": 8,
   "metadata": {
    "ExecuteTime": {
     "end_time": "2022-07-13T15:14:31.134472Z",
     "start_time": "2022-07-13T15:14:31.127395Z"
    }
   },
   "outputs": [
    {
     "data": {
      "text/plain": [
       "51     570\n",
       "489    556\n",
       "298    554\n",
       "135    554\n",
       "245    553\n",
       "      ... \n",
       "277    476\n",
       "215    475\n",
       "108    472\n",
       "42     471\n",
       "185    442\n",
       "Name: wheezy-copper-turtle-magic, Length: 512, dtype: int64"
      ]
     },
     "execution_count": 8,
     "metadata": {},
     "output_type": "execute_result"
    }
   ],
   "source": [
    "# 统计 特征 wheezy-copper-turtle-magic 特征中 取值范围以及数量\n",
    "train['wheezy-copper-turtle-magic'].value_counts()"
   ]
  },
  {
   "cell_type": "code",
   "execution_count": 38,
   "metadata": {},
   "outputs": [
    {
     "data": {
      "text/plain": [
       "array([ 99,  52, 230,  78, 497, 131,  50, 141, 300,  85,  70,  61,  69,\n",
       "        81,  58, 358, 212, 169, 145,  38, 500, 242, 322, 492, 437, 400,\n",
       "       229,  16, 351, 247, 438, 303, 155, 356,  27,  45,  12, 193, 390,\n",
       "        49, 173, 311, 280, 421,   2, 478, 442,  14,  83, 125, 268, 333,\n",
       "       406, 506, 502, 319, 318, 450, 353,   5, 299,  37, 249, 240, 339,\n",
       "       206, 110, 373, 415, 328,  36,  79, 374,  90, 472,  51, 115, 261,\n",
       "        39, 297, 238, 164, 359,   9, 449,  24, 332,  26, 396, 211, 434,\n",
       "       479, 453, 397, 451, 304, 393, 281, 461, 188, 203, 325, 476, 108,\n",
       "       142, 460, 236,  60,   3, 157, 182, 174, 228, 246, 321, 254, 270,\n",
       "       120, 423, 503, 378,  57,  30, 289, 344, 274,  29, 219, 380,  91,\n",
       "        25, 422, 148, 468, 487, 191,  56, 100,  71, 336, 425, 175, 279,\n",
       "       371, 377, 109, 509,  48, 326, 208,   7, 260, 407, 505, 382, 489,\n",
       "       346, 159, 350, 296, 501, 189, 432, 431, 216, 252, 418,  96,  42,\n",
       "       413, 347, 457, 355, 498,  55, 221,  89, 225, 170,  23, 127, 354,\n",
       "        20, 128, 114, 117, 385,  82, 101,  31, 488, 383, 391,   4, 308,\n",
       "       305, 126,  62, 379, 408, 447, 129, 467, 251, 365, 444,  11, 118,\n",
       "       124, 257, 258, 495, 198, 384, 147, 122, 286,  87, 448, 475,  28,\n",
       "       287, 234, 166,  47, 426, 445, 452, 217, 224, 136, 357, 480, 285,\n",
       "       392, 362, 463, 250, 178, 455, 456, 334, 446, 165, 103, 284, 245,\n",
       "       481, 201,  65, 511, 429,  66, 233, 130,  68, 477, 508, 227,  17,\n",
       "       316, 205,  59, 370,  18,  63, 435, 292, 184,  46,  53,  43, 301,\n",
       "       376,  44, 237, 335, 262, 315, 470,  35, 307, 107,  21,  75, 404,\n",
       "       387, 499, 269,  76, 218,  64, 348, 510, 180, 361, 295, 243, 181,\n",
       "       293, 443,  67, 134,  98, 179, 401, 473, 412, 207, 483, 271, 158,\n",
       "       210, 256, 484, 150, 282, 102, 116, 464, 375, 310, 398, 486, 312,\n",
       "       409, 253, 275, 241,  94, 143,   1, 209,   6,  19, 277, 381, 496,\n",
       "       388, 411,  33, 199, 367, 403, 156, 223, 490, 327, 349, 112, 255,\n",
       "       167, 272, 459, 267, 494, 368, 342, 420, 168, 144, 454, 372, 320,\n",
       "        34, 352, 121, 416, 194, 213,  13, 389, 298, 294, 306, 410, 195,\n",
       "       331, 171, 465, 185, 471, 231, 190, 441, 309, 111, 482, 323, 474,\n",
       "       149, 123, 414, 291, 197, 137, 146, 302, 402,  54, 133, 106, 135,\n",
       "       462, 278, 196, 264, 386, 132, 172,  92, 283, 424, 290, 345, 104,\n",
       "       139, 430, 204, 177,  97, 119,  15, 138,  22, 214,  10,  88, 183,\n",
       "       364, 154, 313, 276, 317, 466,  74, 363, 239, 163,  40, 259, 222,\n",
       "       417, 192, 263, 288, 360, 394, 273, 160, 439,  41, 433, 113,  80,\n",
       "       399,  72, 330, 366, 493, 162, 266, 235,  84, 436,   8, 200, 232,\n",
       "       329, 458, 341, 369, 215, 428, 161,  86, 338, 176, 152,  32, 340,\n",
       "       105, 324,  95, 440, 504,  73, 491, 220, 485, 337, 226, 419, 244,\n",
       "       265, 140, 186, 507, 405,  77, 187, 343, 427,   0, 202, 314, 248,\n",
       "       395, 151, 469,  93, 153])"
      ]
     },
     "execution_count": 38,
     "metadata": {},
     "output_type": "execute_result"
    }
   ],
   "source": [
    "# 查看所有该特征的取值\n",
    "train[col].unique()"
   ]
  },
  {
   "cell_type": "code",
   "execution_count": 10,
   "metadata": {
    "ExecuteTime": {
     "end_time": "2022-07-13T15:18:45.647819Z",
     "start_time": "2022-07-13T15:18:45.270170Z"
    }
   },
   "outputs": [
    {
     "data": {
      "text/plain": [
       "<matplotlib.axes._subplots.AxesSubplot at 0x7fe8cd6092b0>"
      ]
     },
     "execution_count": 10,
     "metadata": {},
     "output_type": "execute_result"
    },
    {
     "data": {
      "image/png": "[encoded data removed]",
      "text/plain": [
       "<Figure size 432x288 with 1 Axes>"
      ]
     },
     "metadata": {
      "needs_background": "light"
     },
     "output_type": "display_data"
    }
   ],
   "source": [
    "# 查看特征分布 取值均匀\n",
    "col = 'wheezy-copper-turtle-magic'\n",
    "sns.distplot(train[col])"
   ]
  },
  {
   "cell_type": "markdown",
   "metadata": {},
   "source": [
    "## 考察该特征对其他特征的影响\n",
    "\n",
    " - 可以查看原始特征的分布以及对关键特征分组后的特征分布，来确定 该特征的重要性"
   ]
  },
  {
   "cell_type": "code",
   "execution_count": 14,
   "metadata": {
    "ExecuteTime": {
     "end_time": "2022-07-13T15:20:23.381451Z",
     "start_time": "2022-07-13T15:20:23.277251Z"
    }
   },
   "outputs": [
    {
     "data": {
      "text/plain": [
       "<matplotlib.axes._subplots.AxesSubplot at 0x7fe8cc485fa0>"
      ]
     },
     "execution_count": 14,
     "metadata": {},
     "output_type": "execute_result"
    },
    {
     "data": {
      "image/png": "[encoded data removed]",
      "text/plain": [
       "<Figure size 432x288 with 1 Axes>"
      ]
     },
     "metadata": {
      "needs_background": "light"
     },
     "output_type": "display_data"
    }
   ],
   "source": [
    "col = 'dorky-peach-sheepdog-ordinal'\n",
    "sns.distplot(train[train['wheezy-copper-turtle-magic'] == 12][col])"
   ]
  },
  {
   "cell_type": "code",
   "execution_count": 12,
   "metadata": {
    "ExecuteTime": {
     "end_time": "2022-07-13T15:19:18.073798Z",
     "start_time": "2022-07-13T15:19:17.932520Z"
    },
    "scrolled": true
   },
   "outputs": [
    {
     "data": {
      "text/plain": [
       "<matplotlib.axes._subplots.AxesSubplot at 0x7fe8cc8111c0>"
      ]
     },
     "execution_count": 12,
     "metadata": {},
     "output_type": "execute_result"
    },
    {
     "data": {
      "image/png": "[encoded data removed]",
      "text/plain": [
       "<Figure size 432x288 with 1 Axes>"
      ]
     },
     "metadata": {
      "needs_background": "light"
     },
     "output_type": "display_data"
    }
   ],
   "source": [
    "col = 'dorky-peach-sheepdog-ordinal'\n",
    "sns.distplot(train[train['wheezy-copper-turtle-magic'] == 10][col])"
   ]
  },
  {
   "cell_type": "markdown",
   "metadata": {},
   "source": [
    "## 对特征进行分组的情况下进行模型拟合"
   ]
  },
  {
   "cell_type": "code",
   "execution_count": 45,
   "metadata": {},
   "outputs": [
    {
     "name": "stderr",
     "output_type": "stream",
     "text": [
      "100%|██████████| 512/512 [00:33<00:00, 15.39it/s]\n"
     ]
    }
   ],
   "source": [
    "skf = StratifiedKFold(n_splits=10, shuffle=True)\n",
    "train_oof = np.zeros(train.shape[0])\n",
    "test_oof = np.zeros(test.shape[0])\n",
    "\n",
    "from sklearn.linear_model import LogisticRegression\n",
    "for trn_idx, val_idx in skf.split(train.values, target.values):\n",
    "    \n",
    "    # 数据集交叉验证划分\n",
    "    x_train = train.iloc[trn_idx]\n",
    "    x_val, y_val = train.iloc[val_idx][feature_names], target.iloc[val_idx]\n",
    "    \n",
    "    for i in tqdm(range(512)):\n",
    "        # 特征分组\n",
    "        x_train2 = x_train[x_train['wheezy-copper-turtle-magic'] == i]\n",
    "        x_val2 = x_val[x_val['wheezy-copper-turtle-magic'] == i]\n",
    "        test2 = test[test['wheezy-copper-turtle-magic'] == i]\n",
    "        \n",
    "        clf = LogisticRegression()\n",
    "        clf.fit(x_train2[feature_names], x_train2.target)\n",
    "        \n",
    "        # 将训练集中对应位置的标签进行赋值\n",
    "        train_oof[x_val2.index] = clf.predict_proba(x_val2)[:, 1]\n",
    "        test_oof[test2.index] += clf.predict_proba(test2[feature_names])[:, 1]\n",
    "    \n",
    "    # break"
   ]
  },
  {
   "cell_type": "code",
   "execution_count": 48,
   "metadata": {},
   "outputs": [
    {
     "data": {
      "text/plain": [
       "0.7194074717511022"
      ]
     },
     "execution_count": 48,
     "metadata": {},
     "output_type": "execute_result"
    }
   ],
   "source": [
    "roc_auc_score(target[val_idx], train_oof[val_idx])"
   ]
  },
  {
   "cell_type": "markdown",
   "metadata": {},
   "source": [
    "## 总结\n",
    "\n",
    "    - 步骤1. 找到字段类型和标签分布情况\n",
    "    \n",
    "    - 步骤2. 构建 baseline 模型\n",
    "    \n",
    "    - 步骤3. 数据分析， 加入新特征\n",
    "    \n",
    "    - 步骤4. 集成学习 & 伪标签"
   ]
  },
  {
   "cell_type": "markdown",
   "metadata": {},
   "source": [
    "## wheezy-copper-turtle-magic 特征挖掘 "
   ]
  },
  {
   "cell_type": "code",
   "execution_count": 5,
   "metadata": {
    "ExecuteTime": {
     "end_time": "2022-07-14T15:07:29.695569Z",
     "start_time": "2022-07-14T15:07:29.691780Z"
    }
   },
   "outputs": [],
   "source": [
    "train1 = train[train['wheezy-copper-turtle-magic'] == 1]"
   ]
  },
  {
   "cell_type": "code",
   "execution_count": 7,
   "metadata": {
    "ExecuteTime": {
     "end_time": "2022-07-14T15:08:07.343619Z",
     "start_time": "2022-07-14T15:08:07.306439Z"
    }
   },
   "outputs": [
    {
     "data": {
      "text/plain": [
       "muggy-smalt-axolotl-pembus              0.970240\n",
       "dorky-peach-sheepdog-ordinal            0.984056\n",
       "slimy-seashell-cassowary-goose          1.054278\n",
       "snazzy-harlequin-chicken-distraction    0.990152\n",
       "frumpy-smalt-mau-ordinal                1.019123\n",
       "                                          ...   \n",
       "muggy-turquoise-donkey-important        0.948657\n",
       "blurry-buff-hyena-entropy               1.002190\n",
       "bluesy-chocolate-kudu-fepid             1.020247\n",
       "gamy-white-monster-expert               1.034015\n",
       "target                                  0.500105\n",
       "Length: 257, dtype: float64"
      ]
     },
     "execution_count": 7,
     "metadata": {},
     "output_type": "execute_result"
    }
   ],
   "source": [
    "# 统计均值和方差\n",
    "train1.iloc[1:-1].std()"
   ]
  },
  {
   "cell_type": "code",
   "execution_count": 9,
   "metadata": {
    "ExecuteTime": {
     "end_time": "2022-07-14T15:09:11.942367Z",
     "start_time": "2022-07-14T15:09:11.601477Z"
    }
   },
   "outputs": [
    {
     "data": {
      "text/plain": [
       "<matplotlib.axes._subplots.AxesSubplot at 0x7f8448826730>"
      ]
     },
     "execution_count": 9,
     "metadata": {},
     "output_type": "execute_result"
    },
    {
     "data": {
      "image/png": "[encoded data removed]",
      "text/plain": [
       "<Figure size 432x288 with 1 Axes>"
      ]
     },
     "metadata": {
      "needs_background": "light"
     },
     "output_type": "display_data"
    }
   ],
   "source": [
    "train1.drop(['id', 'wheezy-copper-turtle-magic', 'target'], axis=1).std().plot()"
   ]
  },
  {
   "cell_type": "code",
   "execution_count": 10,
   "metadata": {
    "ExecuteTime": {
     "end_time": "2022-07-14T15:09:20.931865Z",
     "start_time": "2022-07-14T15:09:20.927698Z"
    }
   },
   "outputs": [],
   "source": [
    "df = train1.drop(['id', 'wheezy-copper-turtle-magic', 'target'], axis=1).std()"
   ]
  },
  {
   "cell_type": "code",
   "execution_count": 11,
   "metadata": {
    "ExecuteTime": {
     "end_time": "2022-07-14T15:09:39.017905Z",
     "start_time": "2022-07-14T15:09:37.614426Z"
    }
   },
   "outputs": [
    {
     "data": {
      "text/plain": [
       "<matplotlib.axes._subplots.AxesSubplot at 0x7f84485c71c0>"
      ]
     },
     "execution_count": 11,
     "metadata": {},
     "output_type": "execute_result"
    },
    {
     "data": {
      "image/png": "[encoded data removed]",
      "text/plain": [
       "<Figure size 432x288 with 1 Axes>"
      ]
     },
     "metadata": {
      "needs_background": "light"
     },
     "output_type": "display_data"
    }
   ],
   "source": [
    "df.sort_values().plot(kind='bar')"
   ]
  },
  {
   "cell_type": "code",
   "execution_count": 12,
   "metadata": {
    "ExecuteTime": {
     "end_time": "2022-07-14T15:10:08.519884Z",
     "start_time": "2022-07-14T15:10:08.514230Z"
    }
   },
   "outputs": [
    {
     "data": {
      "text/plain": [
       "dorky-cream-flamingo-novice             0.932373\n",
       "grumpy-sapphire-akbash-fimbus           0.933063\n",
       "bluesy-amethyst-octopus-gaussian        0.936354\n",
       "stealthy-yellow-lobster-goose           0.940528\n",
       "crappy-carmine-eagle-entropy            0.944902\n",
       "                                          ...   \n",
       "snoopy-red-zonkey-unsorted              3.651350\n",
       "bumpy-amaranth-armadillo-important      3.659794\n",
       "beady-champagne-bullfrog-grandmaster    3.729860\n",
       "skimpy-copper-fowl-grandmaster          3.759661\n",
       "shaggy-silver-indri-fimbus              3.824063\n",
       "Length: 255, dtype: float64"
      ]
     },
     "execution_count": 12,
     "metadata": {},
     "output_type": "execute_result"
    }
   ],
   "source": [
    "# 不同 wheezy-copper-turtle-magic 下 某些特征方差依旧很大或者很小\n",
    "df.sort_values()"
   ]
  },
  {
   "cell_type": "markdown",
   "metadata": {},
   "source": [
    "## 特征筛选"
   ]
  },
  {
   "cell_type": "code",
   "execution_count": 13,
   "metadata": {
    "ExecuteTime": {
     "end_time": "2022-07-14T15:13:54.621603Z",
     "start_time": "2022-07-14T15:13:54.287389Z"
    }
   },
   "outputs": [],
   "source": [
    "from sklearn.feature_selection import VarianceThreshold\n",
    "\n",
    "# 基于方差筛选特征，获取新的数据集\n",
    "data2 = VarianceThreshold(threshold=2).fit_transform(train1.drop(['id', 'wheezy-copper-turtle-magic', 'target'], axis=1))"
   ]
  },
  {
   "cell_type": "code",
   "execution_count": 20,
   "metadata": {
    "ExecuteTime": {
     "end_time": "2022-07-14T15:26:32.169368Z",
     "start_time": "2022-07-14T15:26:32.166761Z"
    }
   },
   "outputs": [],
   "source": [
    "col = [c for c in train.columns if c not in ['id', 'wheezy-copper-turtle-magic', 'target']]"
   ]
  },
  {
   "cell_type": "code",
   "execution_count": 21,
   "metadata": {
    "ExecuteTime": {
     "end_time": "2022-07-14T15:26:40.651475Z",
     "start_time": "2022-07-14T15:26:40.644847Z"
    }
   },
   "outputs": [
    {
     "data": {
      "text/plain": [
       "['muggy-smalt-axolotl-pembus',\n",
       " 'dorky-peach-sheepdog-ordinal',\n",
       " 'slimy-seashell-cassowary-goose',\n",
       " 'snazzy-harlequin-chicken-distraction',\n",
       " 'frumpy-smalt-mau-ordinal',\n",
       " 'stealthy-beige-pinscher-golden',\n",
       " 'chummy-cream-tarantula-entropy',\n",
       " 'hazy-emerald-cuttlefish-unsorted',\n",
       " 'nerdy-indigo-wolfhound-sorted',\n",
       " 'leaky-amaranth-lizard-sorted',\n",
       " 'ugly-tangerine-chihuahua-important',\n",
       " 'shaggy-silver-indri-fimbus',\n",
       " 'flaky-chocolate-beetle-grandmaster',\n",
       " 'squirrely-harlequin-sheep-sumble',\n",
       " 'freaky-tan-angelfish-noise',\n",
       " 'lousy-plum-penguin-sumble',\n",
       " 'bluesy-rose-wallaby-discard',\n",
       " 'baggy-copper-oriole-dummy',\n",
       " 'stealthy-scarlet-hound-fepid',\n",
       " 'greasy-cinnamon-bonobo-contributor',\n",
       " 'cranky-cardinal-dogfish-ordinal',\n",
       " 'snippy-auburn-vole-learn',\n",
       " 'greasy-sepia-coral-dataset',\n",
       " 'flabby-tangerine-fowl-entropy',\n",
       " 'lousy-smalt-pinscher-dummy',\n",
       " 'bluesy-brass-chihuahua-distraction',\n",
       " 'goopy-eggplant-indri-entropy',\n",
       " 'homey-sepia-bombay-sorted',\n",
       " 'homely-ruby-bulldog-entropy',\n",
       " 'hasty-blue-sheep-contributor',\n",
       " 'blurry-wisteria-oyster-master',\n",
       " 'snoopy-auburn-dogfish-expert',\n",
       " 'stinky-maroon-blue-kernel',\n",
       " 'bumpy-amaranth-armadillo-important',\n",
       " 'slaphappy-peach-oyster-master',\n",
       " 'dorky-tomato-ragdoll-dataset',\n",
       " 'messy-mauve-wolverine-ordinal',\n",
       " 'geeky-pumpkin-moorhen-important',\n",
       " 'crabby-teal-otter-unsorted',\n",
       " 'flaky-goldenrod-bat-noise',\n",
       " 'beady-aquamarine-affenpinscher-grandmaster',\n",
       " 'pasty-auburn-rat-entropy',\n",
       " 'snappy-gamboge-caterpillar-dummy',\n",
       " 'breezy-persimmon-newt-noise',\n",
       " 'baggy-mustard-collie-hint',\n",
       " 'sunny-red-weasel-hint',\n",
       " 'cheeky-red-armadillo-unsorted',\n",
       " 'wiggy-magnolia-wolfhound-sorted',\n",
       " 'flimsy-chestnut-guppy-important',\n",
       " 'beady-champagne-bullfrog-grandmaster',\n",
       " 'lanky-emerald-alligator-kernel',\n",
       " 'blurry-flax-sloth-fepid',\n",
       " 'scanty-viridian-guppy-grandmaster',\n",
       " 'blurry-amber-moth-dataset',\n",
       " 'grumpy-zucchini-kudu-kernel',\n",
       " 'chewy-myrtle-wasp-important',\n",
       " 'snappy-lemon-okapi-ordinal',\n",
       " 'cranky-eggplant-oyster-sumble',\n",
       " 'snappy-pear-quoll-unsorted',\n",
       " 'crappy-cream-shrew-unsorted',\n",
       " 'bluesy-amber-walrus-fepid',\n",
       " 'clammy-xanthic-affenpinscher-golden',\n",
       " 'slimy-blue-alligator-master',\n",
       " 'hazy-tan-schnauzer-hint',\n",
       " 'breezy-aquamarine-sloth-sorted',\n",
       " 'tasty-indigo-termite-ordinal',\n",
       " 'thirsty-gamboge-dragonfly-kernel',\n",
       " 'gloppy-turquoise-quoll-goose',\n",
       " 'gamy-lilac-kakapo-expert',\n",
       " 'geeky-amethyst-quetzal-unsorted',\n",
       " 'hilly-lime-vole-novice',\n",
       " 'baggy-champagne-capuchin-discard',\n",
       " 'dorky-amaranth-eel-grandmaster',\n",
       " 'hasty-pink-iguana-noise',\n",
       " 'snoopy-red-zonkey-unsorted',\n",
       " 'tasty-periwinkle-fousek-unsorted',\n",
       " 'homey-scarlet-javanese-novice',\n",
       " 'woozy-crimson-beetle-contributor',\n",
       " 'snippy-burgundy-leopard-expert',\n",
       " 'slimy-purple-gorilla-goose',\n",
       " 'snappy-brass-malamute-entropy',\n",
       " 'greasy-rust-birman-kernel',\n",
       " 'goopy-copper-fousek-distraction',\n",
       " 'snazzy-cerise-donkey-distraction',\n",
       " 'squeaky-khaki-lionfish-distraction',\n",
       " 'snazzy-malachite-llama-unsorted',\n",
       " 'nerdy-violet-rat-pembus',\n",
       " 'clammy-scarlet-emu-important',\n",
       " 'lovely-sangria-koala-contributor',\n",
       " 'blurry-sangria-saola-gaussian',\n",
       " 'paltry-seashell-neanderthal-master',\n",
       " 'crappy-pumpkin-saola-grandmaster',\n",
       " 'smelly-tangerine-horse-gaussian',\n",
       " 'cranky-magenta-mammoth-distraction',\n",
       " 'hazy-champagne-duck-entropy',\n",
       " 'flaky-cream-peccary-sorted',\n",
       " 'pokey-russet-hippopotamus-master',\n",
       " 'leaky-apricot-mammoth-unsorted',\n",
       " 'flaky-brass-grasshopper-sorted',\n",
       " 'skanky-cobalt-dolphin-sorted',\n",
       " 'zippy-platinum-gharial-kernel',\n",
       " 'sleazy-cinnamon-frog-grandmaster',\n",
       " 'gloppy-denim-ostrich-gaussian',\n",
       " 'smelly-yellow-akbash-important',\n",
       " 'shaggy-sapphire-eel-unsorted',\n",
       " 'queasy-peach-bison-sumble',\n",
       " 'foggy-denim-hyrax-important',\n",
       " 'grumpy-bronze-capybara-sumble',\n",
       " 'ugly-green-earwig-noise',\n",
       " 'slimy-thistle-cuscus-hint',\n",
       " 'chummy-ruby-chinook-dataset',\n",
       " 'cranky-champagne-jackal-gaussian',\n",
       " 'lousy-wisteria-hornet-entropy',\n",
       " 'wheezy-harlequin-earwig-gaussian',\n",
       " 'tasty-buff-monkey-learn',\n",
       " 'droopy-razzmatazz-bordeaux-dummy',\n",
       " 'cozy-khaki-reindeer-golden',\n",
       " 'greasy-crimson-squid-grandmaster',\n",
       " 'dorky-turquoise-maltese-important',\n",
       " 'lousy-blue-buffalo-entropy',\n",
       " 'skinny-yellow-hedgehog-sumble',\n",
       " 'pasty-flax-octopus-dataset',\n",
       " 'pasty-sepia-eel-noise',\n",
       " 'seedy-charcoal-capybara-ordinal',\n",
       " 'cranky-ultramarine-swan-pembus',\n",
       " 'hasty-puce-fowl-fepid',\n",
       " 'sunny-purple-husky-noise',\n",
       " 'stuffy-periwinkle-zebu-discard',\n",
       " 'nerdy-teal-olm-fepid',\n",
       " 'jumpy-blue-bison-sorted',\n",
       " 'wiggy-denim-retriever-distraction',\n",
       " 'messy-cardinal-lemur-distraction',\n",
       " 'scanty-periwinkle-dhole-dataset',\n",
       " 'snazzy-purple-donkey-discard',\n",
       " 'skanky-carmine-rabbit-contributor',\n",
       " 'wheezy-red-iguana-entropy',\n",
       " 'gloppy-mauve-bonobo-important',\n",
       " 'breezy-magenta-loon-hint',\n",
       " 'skinny-ultramarine-cat-fimbus',\n",
       " 'trippy-harlequin-maltese-expert',\n",
       " 'breezy-myrtle-loon-discard',\n",
       " 'woolly-gold-millipede-fimbus',\n",
       " 'beady-lilac-hornet-expert',\n",
       " 'bluesy-amethyst-octopus-gaussian',\n",
       " 'dorky-cream-flamingo-novice',\n",
       " 'lanky-puce-opossum-dummy',\n",
       " 'gimpy-asparagus-eagle-novice',\n",
       " 'randy-ivory-eleuth-discard',\n",
       " 'beady-orange-binturong-golden',\n",
       " 'zippy-harlequin-otter-grandmaster',\n",
       " 'cozy-vermilion-uguisu-grandmaster',\n",
       " 'slimy-plum-cassowary-master',\n",
       " 'seedy-chartreuse-whippet-hint',\n",
       " 'messy-zucchini-tiger-contributor',\n",
       " 'stealthy-yellow-lobster-goose',\n",
       " 'snazzy-cream-macaque-novice',\n",
       " 'muggy-pumpkin-scorpion-grandmaster',\n",
       " 'lovely-plum-goat-novice',\n",
       " 'ugly-tangerine-llama-goose',\n",
       " 'silly-tan-tapir-pembus',\n",
       " 'stuffy-aquamarine-audemer-fimbus',\n",
       " 'cheeky-plum-fox-noise',\n",
       " 'snoopy-heliotrope-squid-dataset',\n",
       " 'slimy-azure-molly-sumble',\n",
       " 'skanky-puce-discus-contributor',\n",
       " 'flimsy-magnolia-gopher-learn',\n",
       " 'paltry-sangria-lemur-fepid',\n",
       " 'leaky-grey-gerbil-sorted',\n",
       " 'craggy-maroon-civet-grandmaster',\n",
       " 'wiggy-cinnamon-gecko-important',\n",
       " 'skimpy-chocolate-dog-learn',\n",
       " 'nippy-jade-squirt-important',\n",
       " 'whiny-flax-sloth-learn',\n",
       " 'freaky-olive-insect-ordinal',\n",
       " 'boozy-amethyst-tarsier-dataset',\n",
       " 'dorky-rose-whale-novice',\n",
       " 'bumpy-amaranth-bonobo-gaussian',\n",
       " 'squirrely-apricot-goat-hint',\n",
       " 'lanky-coral-moorhen-expert',\n",
       " 'greasy-scarlet-paradise-goose',\n",
       " 'lousy-asparagus-tiger-discard',\n",
       " 'smelly-brown-deer-entropy',\n",
       " 'stealthy-chocolate-urchin-kernel',\n",
       " 'flabby-beige-serval-noise',\n",
       " 'skinny-indigo-tarantula-expert',\n",
       " 'zippy-cerise-weasel-contributor',\n",
       " 'nippy-pumpkin-rhinoceros-entropy',\n",
       " 'pretty-copper-insect-discard',\n",
       " 'grumpy-sapphire-akbash-fimbus',\n",
       " 'pasty-aquamarine-numbat-pembus',\n",
       " 'woolly-cinnabar-schnauzer-important',\n",
       " 'gloppy-buff-frigatebird-dataset',\n",
       " 'wheezy-lavender-catfish-master',\n",
       " 'gamy-plum-tarsier-kernel',\n",
       " 'flaky-crimson-wallaby-distraction',\n",
       " 'cheeky-pear-horse-fimbus',\n",
       " 'trippy-asparagus-bison-expert',\n",
       " 'lanky-aqua-bullfrog-important',\n",
       " 'stinky-olive-kiwi-golden',\n",
       " 'sickly-denim-oriole-important',\n",
       " 'gloppy-persimmon-bee-unsorted',\n",
       " 'stealthy-azure-gopher-hint',\n",
       " 'hasty-ivory-dragonfly-goose',\n",
       " 'flimsy-turquoise-fox-kernel',\n",
       " 'lousy-zucchini-seahorse-dummy',\n",
       " 'shabby-magenta-whippet-novice',\n",
       " 'chewy-lime-peccary-fimbus',\n",
       " 'nippy-burgundy-beagle-novice',\n",
       " 'gloppy-firebrick-moth-dataset',\n",
       " 'sleazy-russet-iguana-unsorted',\n",
       " 'surly-corn-tzu-kernel',\n",
       " 'skinny-myrtle-whippet-fepid',\n",
       " 'homey-tangerine-sloth-discard',\n",
       " 'blurry-green-dodo-important',\n",
       " 'skinny-champagne-mayfly-sorted',\n",
       " 'dorky-purple-kiwi-hint',\n",
       " 'beady-mauve-frog-distraction',\n",
       " 'surly-brass-maltese-ordinal',\n",
       " 'beady-asparagus-opossum-expert',\n",
       " 'beady-rust-impala-dummy',\n",
       " 'droopy-amethyst-dachshund-hint',\n",
       " 'homey-crimson-budgerigar-grandmaster',\n",
       " 'droopy-cardinal-impala-important',\n",
       " 'woozy-apricot-moose-hint',\n",
       " 'paltry-sapphire-labradoodle-dummy',\n",
       " 'crappy-carmine-eagle-entropy',\n",
       " 'greasy-magnolia-spider-grandmaster',\n",
       " 'crabby-carmine-flounder-sorted',\n",
       " 'skimpy-copper-fowl-grandmaster',\n",
       " 'hasty-seashell-woodpecker-hint',\n",
       " 'snappy-purple-bobcat-important',\n",
       " 'thirsty-carmine-corgi-ordinal',\n",
       " 'homely-auburn-reindeer-unsorted',\n",
       " 'crappy-beige-tiger-fepid',\n",
       " 'cranky-auburn-swan-novice',\n",
       " 'chewy-bistre-buzzard-expert',\n",
       " 'skinny-cyan-macaque-pembus',\n",
       " 'slimy-periwinkle-otter-expert',\n",
       " 'snazzy-burgundy-clam-novice',\n",
       " 'cozy-ochre-gorilla-gaussian',\n",
       " 'homey-sangria-wolfhound-dummy',\n",
       " 'snazzy-asparagus-hippopotamus-contributor',\n",
       " 'paltry-red-hamster-sorted',\n",
       " 'zippy-dandelion-insect-golden',\n",
       " 'baggy-coral-bandicoot-unsorted',\n",
       " 'goopy-lavender-wolverine-fimbus',\n",
       " 'wheezy-myrtle-mandrill-entropy',\n",
       " 'wiggy-lilac-lemming-sorted',\n",
       " 'gloppy-cerise-snail-contributor',\n",
       " 'woozy-silver-havanese-gaussian',\n",
       " 'jumpy-thistle-discus-sorted',\n",
       " 'muggy-turquoise-donkey-important',\n",
       " 'blurry-buff-hyena-entropy',\n",
       " 'bluesy-chocolate-kudu-fepid',\n",
       " 'gamy-white-monster-expert']"
      ]
     },
     "execution_count": 21,
     "metadata": {},
     "output_type": "execute_result"
    }
   ],
   "source": [
    "col"
   ]
  },
  {
   "cell_type": "code",
   "execution_count": 22,
   "metadata": {
    "ExecuteTime": {
     "end_time": "2022-07-14T15:27:28.169030Z",
     "start_time": "2022-07-14T15:27:28.158556Z"
    }
   },
   "outputs": [],
   "source": [
    "train3 = VarianceThreshold(threshold=0.1).fit_transform(train2[col])"
   ]
  },
  {
   "cell_type": "code",
   "execution_count": 28,
   "metadata": {
    "ExecuteTime": {
     "end_time": "2022-07-14T15:30:49.525902Z",
     "start_time": "2022-07-14T15:30:49.521701Z"
    }
   },
   "outputs": [],
   "source": [
    "test2 = test[test['wheezy-copper-turtle-magic'] == 1]"
   ]
  },
  {
   "cell_type": "code",
   "execution_count": 31,
   "metadata": {
    "ExecuteTime": {
     "end_time": "2022-07-14T15:37:04.800050Z",
     "start_time": "2022-07-14T15:37:04.795078Z"
    }
   },
   "outputs": [
    {
     "data": {
      "text/plain": [
       "0         False\n",
       "1         False\n",
       "2         False\n",
       "3         False\n",
       "4         False\n",
       "          ...  \n",
       "131067    False\n",
       "131068    False\n",
       "131069    False\n",
       "131070    False\n",
       "131071    False\n",
       "Name: wheezy-copper-turtle-magic, Length: 131072, dtype: bool"
      ]
     },
     "execution_count": 31,
     "metadata": {},
     "output_type": "execute_result"
    }
   ],
   "source": [
    "test['wheezy-copper-turtle-magic'] == 1"
   ]
  },
  {
   "cell_type": "code",
   "execution_count": null,
   "metadata": {
    "ExecuteTime": {
     "start_time": "2022-07-14T15:37:49.680Z"
    }
   },
   "outputs": [
    {
     "name": "stderr",
     "output_type": "stream",
     "text": [
      "  4%|▎         | 19/512 [00:01<00:46, 10.50it/s]"
     ]
    }
   ],
   "source": [
    "train_oof = np.zeros(train.shape[0])\n",
    "test_oof = np.zeros(test.shape[0])\n",
    "\n",
    "from sklearn.model_selection import StratifiedKFold\n",
    "from sklearn.feature_selection import VarianceThreshold\n",
    "\n",
    "col = [c for c in train.columns if c not in ['id', 'wheezy-copper-turtle-magic', 'target']]\n",
    "\n",
    "# 先划分训练和验证集 -> 按照turtle-magic取值进行划分\n",
    "# 按照turtle-magic取值进行划分 -> 先划分训练和验证集\n",
    "\n",
    "from tqdm import tqdm\n",
    "for i in tqdm(range(512)):\n",
    "    train2 = train[train['wheezy-copper-turtle-magic'] == i]\n",
    "    test2 = test[test['wheezy-copper-turtle-magic'] == i]\n",
    "\n",
    "    \n",
    "    # 方差筛选\n",
    "    train3 = VarianceThreshold(threshold=0.1).fit_transform(train2[col])\n",
    "#     test3 = VarianceThreshold(threshold=0.1).fit_transform(test2[col])\n",
    "    \n",
    "    skf = StratifiedKFold(n_splits=5)\n",
    "    for tr_idx, val_idx in skf.split(train2, train2.target):\n",
    "        \n",
    "        # 如果不做方差筛选特征，\n",
    "        # print(train3[tr_idx].shape, train3[val_idx].shape, test3[val_idx].shape)\n",
    "        \n",
    "        # 构造方法，反推标签\n",
    "        from sklearn.discriminant_analysis import QuadraticDiscriminantAnalysis\n",
    "        clf = QuadraticDiscriminantAnalysis()\n",
    "        clf.fit(train3[tr_idx], train2.target.iloc[tr_idx])\n",
    "        train_oof[train2.iloc[val_idx].index] = clf.predict_proba(train3[val_idx])[:, 1]\n",
    "        \n",
    "#         test_oof[test2.index] = clf.predict_proba(test3)[:, 1] / 5"
   ]
  },
  {
   "cell_type": "code",
   "execution_count": null,
   "metadata": {},
   "outputs": [],
   "source": []
  }
 ],
 "metadata": {
  "kernelspec": {
   "display_name": "Python 3",
   "language": "python",
   "name": "python3"
  },
  "language_info": {
   "codemirror_mode": {
    "name": "ipython",
    "version": 3
   },
   "file_extension": ".py",
   "mimetype": "text/x-python",
   "name": "python",
   "nbconvert_exporter": "python",
   "pygments_lexer": "ipython3",
   "version": "3.8.3"
  }
 },
 "nbformat": 4,
 "nbformat_minor": 4
}
